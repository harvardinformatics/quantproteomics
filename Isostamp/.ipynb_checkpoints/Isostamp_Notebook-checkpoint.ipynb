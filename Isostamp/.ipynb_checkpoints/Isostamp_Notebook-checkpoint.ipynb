{
 "cells": [
  {
   "cell_type": "code",
   "execution_count": 1,
   "metadata": {},
   "outputs": [],
   "source": [
    "from bin.isostamp_search import run as run_isostamp\n",
    "from bin.database_combine import run as run_database_combine"
   ]
  },
  {
   "cell_type": "code",
   "execution_count": 2,
   "metadata": {},
   "outputs": [
    {
     "name": "stderr",
     "output_type": "stream",
     "text": [
      "INFO:root:CPU detected, 24 threads specified\n",
      "INFO:root:isostamp run: 0, profile mzML file path: 181210L_SAM04874_DKM151_PB_CBPA_S_CF_profile.mzML\n",
      "INFO:root:step 1: split mzml file\n",
      "34176it [00:56, 607.95it/s]\n",
      "INFO:root:splitting mzml file took 0.94 min\n",
      "INFO:root:MS1 df shape: (11805, 4)\n",
      "INFO:root:MS2 df shape: (22371, 5)\n",
      "INFO:root:step 2: transform MS2 precursor info dataframe to unique feature\n",
      "INFO:root:MS2 precursor info into adjacency list\n",
      "INFO:root:perform depth-first search\n",
      "INFO:root:first depth reduces ms2 size from 22371 to 13144\n",
      "INFO:root:step 3: perform depth-first graph search to reduce search redundancy\n",
      "INFO:root:step 4: slice MS1 by runtime (RT) and pass to multiprocess brainpy fitting\n",
      " 71%|███████   | 9310/13144 [35:17<14:49,  4.31it/s]  /opt/conda/lib/python3.7/site-packages/scipy/stats/stats.py:3399: PearsonRConstantInputWarning: An input array is constant; the correlation coefficent is not defined.\n",
      "  warnings.warn(PearsonRConstantInputWarning())\n",
      " 97%|█████████▋| 12684/13144 [50:32<01:44,  4.42it/s]/opt/conda/lib/python3.7/site-packages/scipy/stats/stats.py:3399: PearsonRConstantInputWarning: An input array is constant; the correlation coefficent is not defined.\n",
      "  warnings.warn(PearsonRConstantInputWarning())\n",
      "100%|██████████| 13144/13144 [52:58<00:00,  4.14it/s]\n",
      "INFO:root:running IsoStamp took 56.86 min\n",
      "INFO:root:181210L_SAM04874_DKM151_PB_CBPA_S_CF_ms1df.csv exported with (13144, 12) shape\n",
      "INFO:root:iteration completed in 56.9 minutes\n",
      "INFO:root:isostamp run: 1, profile mzML file path: 181210L_SAM04875_DKM151_PB_CBA_S_CF_profile.mzML\n",
      "INFO:root:step 1: split mzml file\n",
      "25964it [00:54, 473.81it/s]\n",
      "INFO:root:splitting mzml file took 0.91 min\n",
      "INFO:root:MS1 df shape: (15071, 4)\n",
      "INFO:root:MS2 df shape: (10893, 5)\n",
      "INFO:root:step 2: transform MS2 precursor info dataframe to unique feature\n",
      "INFO:root:MS2 precursor info into adjacency list\n",
      "INFO:root:perform depth-first search\n",
      "INFO:root:first depth reduces ms2 size from 10893 to 6214\n",
      "INFO:root:step 3: perform depth-first graph search to reduce search redundancy\n",
      "INFO:root:step 4: slice MS1 by runtime (RT) and pass to multiprocess brainpy fitting\n",
      " 27%|██▋       | 1684/6214 [08:32<22:25,  3.37it/s]/opt/conda/lib/python3.7/site-packages/scipy/stats/stats.py:3399: PearsonRConstantInputWarning: An input array is constant; the correlation coefficent is not defined.\n",
      "  warnings.warn(PearsonRConstantInputWarning())\n",
      "100%|██████████| 6214/6214 [31:09<00:00,  3.32it/s]\n",
      "INFO:root:running IsoStamp took 33.55 min\n",
      "INFO:root:181210L_SAM04875_DKM151_PB_CBA_S_CF_ms1df.csv exported with (6214, 12) shape\n",
      "INFO:root:iteration completed in 33.5 minutes\n",
      "INFO:root:isostamp run: 2, profile mzML file path: 181210L_SAM04876_DKM151_PB_CBPA_C_CF_profile.mzML\n",
      "INFO:root:step 1: split mzml file\n",
      "31959it [01:23, 383.31it/s]\n",
      "INFO:root:splitting mzml file took 1.39 min\n",
      "INFO:root:MS1 df shape: (12587, 4)\n",
      "INFO:root:MS2 df shape: (19372, 5)\n",
      "INFO:root:step 2: transform MS2 precursor info dataframe to unique feature\n",
      "INFO:root:MS2 precursor info into adjacency list\n",
      "INFO:root:perform depth-first search\n",
      "INFO:root:first depth reduces ms2 size from 19372 to 11388\n",
      "INFO:root:step 3: perform depth-first graph search to reduce search redundancy\n",
      "INFO:root:step 4: slice MS1 by runtime (RT) and pass to multiprocess brainpy fitting\n",
      " 16%|█▋        | 1875/11388 [08:38<36:08,  4.39it/s]  /opt/conda/lib/python3.7/site-packages/scipy/stats/stats.py:3399: PearsonRConstantInputWarning: An input array is constant; the correlation coefficent is not defined.\n",
      "  warnings.warn(PearsonRConstantInputWarning())\n",
      "100%|██████████| 11388/11388 [47:47<00:00,  3.97it/s]\n",
      "INFO:root:running IsoStamp took 51.88 min\n",
      "INFO:root:181210L_SAM04876_DKM151_PB_CBPA_C_CF_ms1df.csv exported with (11388, 12) shape\n",
      "INFO:root:iteration completed in 51.9 minutes\n",
      "INFO:root:isostamp run: 3, profile mzML file path: 181210L_SAM04877_DKM151_PB_CBA_C_CF_profile.mzML\n",
      "INFO:root:step 1: split mzml file\n",
      "43124it [01:04, 671.03it/s]\n",
      "INFO:root:splitting mzml file took 1.07 min\n",
      "INFO:root:MS1 df shape: (9941, 4)\n",
      "INFO:root:MS2 df shape: (33183, 5)\n",
      "INFO:root:step 2: transform MS2 precursor info dataframe to unique feature\n",
      "INFO:root:MS2 precursor info into adjacency list\n",
      "INFO:root:perform depth-first search\n",
      "INFO:root:first depth reduces ms2 size from 33183 to 21700\n",
      "INFO:root:step 3: perform depth-first graph search to reduce search redundancy\n",
      "INFO:root:step 4: slice MS1 by runtime (RT) and pass to multiprocess brainpy fitting\n",
      " 54%|█████▍    | 11688/21700 [30:30<16:22, 10.19it/s] /opt/conda/lib/python3.7/site-packages/scipy/stats/stats.py:3399: PearsonRConstantInputWarning: An input array is constant; the correlation coefficent is not defined.\n",
      "  warnings.warn(PearsonRConstantInputWarning())\n",
      " 59%|█████▉    | 12882/21700 [32:29<15:04,  9.75it/s]/opt/conda/lib/python3.7/site-packages/scipy/stats/stats.py:3399: PearsonRConstantInputWarning: An input array is constant; the correlation coefficent is not defined.\n",
      "  warnings.warn(PearsonRConstantInputWarning())\n",
      " 70%|██████▉   | 15095/21700 [36:19<12:10,  9.04it/s]/opt/conda/lib/python3.7/site-packages/scipy/stats/stats.py:3399: PearsonRConstantInputWarning: An input array is constant; the correlation coefficent is not defined.\n",
      "  warnings.warn(PearsonRConstantInputWarning())\n",
      "100%|██████████| 21700/21700 [49:39<00:00,  7.28it/s]\n",
      "INFO:root:running IsoStamp took 55.47 min\n",
      "INFO:root:181210L_SAM04877_DKM151_PB_CBA_C_CF_ms1df.csv exported with (21700, 12) shape\n",
      "INFO:root:iteration completed in 55.5 minutes\n",
      "INFO:root:isostamp run: 4, profile mzML file path: 181210L_SAM04878_DKM151_D_CBPA_C_CF_profile.mzML\n",
      "INFO:root:step 1: split mzml file\n",
      "40852it [01:30, 449.62it/s]\n",
      "INFO:root:splitting mzml file took 1.52 min\n",
      "INFO:root:MS1 df shape: (11484, 4)\n",
      "INFO:root:MS2 df shape: (29368, 5)\n",
      "INFO:root:step 2: transform MS2 precursor info dataframe to unique feature\n",
      "INFO:root:MS2 precursor info into adjacency list\n",
      "INFO:root:perform depth-first search\n",
      "INFO:root:first depth reduces ms2 size from 29368 to 18082\n",
      "INFO:root:step 3: perform depth-first graph search to reduce search redundancy\n",
      "INFO:root:step 4: slice MS1 by runtime (RT) and pass to multiprocess brainpy fitting\n",
      "100%|██████████| 18082/18082 [59:37<00:00,  5.05it/s] \n",
      "INFO:root:running IsoStamp took 65.26 min\n",
      "INFO:root:181210L_SAM04878_DKM151_D_CBPA_C_CF_ms1df.csv exported with (18082, 12) shape\n",
      "INFO:root:iteration completed in 65.3 minutes\n",
      "INFO:root:isostamp run: 5, profile mzML file path: 181210L_SAM04879_DKM151_D_CBA_C_CF_profile.mzML\n",
      "INFO:root:step 1: split mzml file\n",
      "34111it [00:42, 803.43it/s] \n",
      "INFO:root:splitting mzml file took 0.71 min\n",
      "INFO:root:MS1 df shape: (14022, 4)\n",
      "INFO:root:MS2 df shape: (20089, 5)\n",
      "INFO:root:step 2: transform MS2 precursor info dataframe to unique feature\n",
      "INFO:root:MS2 precursor info into adjacency list\n",
      "INFO:root:perform depth-first search\n",
      "INFO:root:first depth reduces ms2 size from 20089 to 12455\n",
      "INFO:root:step 3: perform depth-first graph search to reduce search redundancy\n",
      "INFO:root:step 4: slice MS1 by runtime (RT) and pass to multiprocess brainpy fitting\n",
      "100%|██████████| 12455/12455 [49:20<00:00,  4.21it/s] \n",
      "INFO:root:running IsoStamp took 52.68 min\n",
      "INFO:root:181210L_SAM04879_DKM151_D_CBA_C_CF_ms1df.csv exported with (12455, 12) shape\n",
      "INFO:root:iteration completed in 52.7 minutes\n",
      "INFO:root:6 files IsoStamped. \n",
      "                     Completed in 5.3 hours\n"
     ]
    }
   ],
   "source": [
    "directory = '/n/holyscratch01/woo_lab/adsouza/IsostampProc/FileSource'\n",
    "input_folder = 'DKM_round2_input'\n",
    "output_folder = 'DKM_new_output'\n",
    "#os.environ[\"SLURM_CPUS_ON_NODE\"] = 2\n",
    "run_isostamp(directory, input_folder, output_folder, 24)"
   ]
  },
  {
   "cell_type": "code",
   "execution_count": 2,
   "metadata": {},
   "outputs": [
    {
     "name": "stderr",
     "output_type": "stream",
     "text": [
      "INFO:root:read Sequest target and/or decoy files\n",
      "/usr/local/lib/python3.7/site-packages/IPython/core/interactiveshell.py:2882: DtypeWarning: Columns (33) have mixed types. Specify dtype option on import or set low_memory=False.\n",
      "  exec(code_obj, self.user_global_ns, self.user_ns)\n",
      "INFO:root:running 181210L_SAM04878_DKM151_D_CBPA_C_CF.raw\n"
     ]
    },
    {
     "name": "stdout",
     "output_type": "stream",
     "text": [
      "108.0917\n"
     ]
    },
    {
     "ename": "TypeError",
     "evalue": "object of type 'NoneType' has no len()",
     "output_type": "error",
     "traceback": [
      "\u001b[0;31m---------------------------------------------------------------------------\u001b[0m",
      "\u001b[0;31mTypeError\u001b[0m                                 Traceback (most recent call last)",
      "\u001b[0;32m<ipython-input-2-0feed35fa204>\u001b[0m in \u001b[0;36m<module>\u001b[0;34m()\u001b[0m\n\u001b[1;32m      9\u001b[0m \u001b[0moutput_filename\u001b[0m \u001b[0;34m=\u001b[0m \u001b[0;34m'DKM151_cleavage_PSMs_isostamp.csv'\u001b[0m\u001b[0;34m\u001b[0m\u001b[0;34m\u001b[0m\u001b[0m\n\u001b[1;32m     10\u001b[0m \u001b[0;34m\u001b[0m\u001b[0m\n\u001b[0;32m---> 11\u001b[0;31m \u001b[0mrun_database_combine\u001b[0m\u001b[0;34m(\u001b[0m\u001b[0mdirectory\u001b[0m\u001b[0;34m,\u001b[0m \u001b[0minput_folder\u001b[0m\u001b[0;34m,\u001b[0m \u001b[0moutput_folder\u001b[0m\u001b[0;34m,\u001b[0m \u001b[0mtarget_csv_filename\u001b[0m\u001b[0;34m,\u001b[0m \u001b[0mdecoy_csv_filename\u001b[0m\u001b[0;34m,\u001b[0m \u001b[0moutput_filename\u001b[0m\u001b[0;34m)\u001b[0m\u001b[0;34m\u001b[0m\u001b[0;34m\u001b[0m\u001b[0m\n\u001b[0m",
      "\u001b[0;32m/Users/ald533/Desktop/WooLab/Isostamp_testMaster/isostamp/bin/database_combine.py\u001b[0m in \u001b[0;36mrun\u001b[0;34m(directory, input_folder, output_folder, target_csv_filename, decoy_csv_filename, output_filename)\u001b[0m\n\u001b[1;32m     46\u001b[0m         \u001b[0mms1df\u001b[0m\u001b[0;34m[\u001b[0m\u001b[0;34m'ms2_scan_number'\u001b[0m\u001b[0;34m]\u001b[0m \u001b[0;34m=\u001b[0m \u001b[0mms1df\u001b[0m\u001b[0;34m[\u001b[0m\u001b[0;34m'ms2_scan_number'\u001b[0m\u001b[0;34m]\u001b[0m\u001b[0;34m.\u001b[0m\u001b[0mapply\u001b[0m\u001b[0;34m(\u001b[0m\u001b[0;32mlambda\u001b[0m \u001b[0mx\u001b[0m\u001b[0;34m:\u001b[0m \u001b[0;34m[\u001b[0m\u001b[0mint\u001b[0m\u001b[0;34m(\u001b[0m\u001b[0ms\u001b[0m\u001b[0;34m)\u001b[0m \u001b[0;32mfor\u001b[0m \u001b[0ms\u001b[0m \u001b[0;32min\u001b[0m \u001b[0mx\u001b[0m\u001b[0;34m.\u001b[0m\u001b[0msplit\u001b[0m\u001b[0;34m(\u001b[0m\u001b[0;34m'+'\u001b[0m\u001b[0;34m)\u001b[0m\u001b[0;34m]\u001b[0m\u001b[0;34m)\u001b[0m\u001b[0;34m\u001b[0m\u001b[0;34m\u001b[0m\u001b[0m\n\u001b[1;32m     47\u001b[0m \u001b[0;34m\u001b[0m\u001b[0m\n\u001b[0;32m---> 48\u001b[0;31m         \u001b[0mmdf\u001b[0m\u001b[0;34m.\u001b[0m\u001b[0mappend\u001b[0m\u001b[0;34m(\u001b[0m\u001b[0mpropensity_from_first_scan_v2\u001b[0m\u001b[0;34m(\u001b[0m\u001b[0mpsmdf_filter\u001b[0m\u001b[0;34m,\u001b[0m \u001b[0mms1df\u001b[0m\u001b[0;34m)\u001b[0m\u001b[0;34m)\u001b[0m\u001b[0;34m\u001b[0m\u001b[0;34m\u001b[0m\u001b[0m\n\u001b[0m\u001b[1;32m     49\u001b[0m \u001b[0;34m\u001b[0m\u001b[0m\n\u001b[1;32m     50\u001b[0m         \u001b[0;31m#except:\u001b[0m\u001b[0;34m\u001b[0m\u001b[0;34m\u001b[0m\u001b[0;34m\u001b[0m\u001b[0m\n",
      "\u001b[0;32m/Users/ald533/Desktop/WooLab/Isostamp_testMaster/isostamp/database_combine_functions.py\u001b[0m in \u001b[0;36mpropensity_from_first_scan_v2\u001b[0;34m(psmdf, ms1df)\u001b[0m\n\u001b[1;32m    114\u001b[0m     \u001b[0mdf_B\u001b[0m\u001b[0;34m=\u001b[0m\u001b[0mdf\u001b[0m\u001b[0;34m[\u001b[0m\u001b[0mdf\u001b[0m\u001b[0;34m.\u001b[0m\u001b[0mbase_peak_correlation\u001b[0m\u001b[0;34m.\u001b[0m\u001b[0mnotnull\u001b[0m\u001b[0;34m(\u001b[0m\u001b[0;34m)\u001b[0m\u001b[0;34m]\u001b[0m\u001b[0;34m\u001b[0m\u001b[0;34m\u001b[0m\u001b[0m\n\u001b[1;32m    115\u001b[0m     \u001b[0;31m#print(df_B)\u001b[0m\u001b[0;34m\u001b[0m\u001b[0;34m\u001b[0m\u001b[0;34m\u001b[0m\u001b[0m\n\u001b[0;32m--> 116\u001b[0;31m     \u001b[0mdf_M\u001b[0m\u001b[0;34m=\u001b[0m\u001b[0mpd\u001b[0m\u001b[0;34m.\u001b[0m\u001b[0mmerge\u001b[0m\u001b[0;34m(\u001b[0m\u001b[0mdf_noB\u001b[0m\u001b[0;34m,\u001b[0m \u001b[0mdf_B\u001b[0m\u001b[0;34m,\u001b[0m \u001b[0mright_on\u001b[0m\u001b[0;34m=\u001b[0m\u001b[0;34m'annotated_sequence'\u001b[0m\u001b[0;34m)\u001b[0m\u001b[0;34m\u001b[0m\u001b[0;34m\u001b[0m\u001b[0m\n\u001b[0m\u001b[1;32m    117\u001b[0m     \u001b[0;31m#df_M = df_M[df_M.columns.drop(list(df_M.filter(regex='_x')))]\u001b[0m\u001b[0;34m\u001b[0m\u001b[0;34m\u001b[0m\u001b[0;34m\u001b[0m\u001b[0m\n\u001b[1;32m    118\u001b[0m     \u001b[0;31m#print(df_M[df_M.base_peak_correlation.isnull()])\u001b[0m\u001b[0;34m\u001b[0m\u001b[0;34m\u001b[0m\u001b[0;34m\u001b[0m\u001b[0m\n",
      "\u001b[0;32m/usr/local/lib/python3.7/site-packages/pandas/core/reshape/merge.py\u001b[0m in \u001b[0;36mmerge\u001b[0;34m(left, right, how, on, left_on, right_on, left_index, right_index, sort, suffixes, copy, indicator, validate)\u001b[0m\n\u001b[1;32m     45\u001b[0m                          \u001b[0mright_index\u001b[0m\u001b[0;34m=\u001b[0m\u001b[0mright_index\u001b[0m\u001b[0;34m,\u001b[0m \u001b[0msort\u001b[0m\u001b[0;34m=\u001b[0m\u001b[0msort\u001b[0m\u001b[0;34m,\u001b[0m \u001b[0msuffixes\u001b[0m\u001b[0;34m=\u001b[0m\u001b[0msuffixes\u001b[0m\u001b[0;34m,\u001b[0m\u001b[0;34m\u001b[0m\u001b[0;34m\u001b[0m\u001b[0m\n\u001b[1;32m     46\u001b[0m                          \u001b[0mcopy\u001b[0m\u001b[0;34m=\u001b[0m\u001b[0mcopy\u001b[0m\u001b[0;34m,\u001b[0m \u001b[0mindicator\u001b[0m\u001b[0;34m=\u001b[0m\u001b[0mindicator\u001b[0m\u001b[0;34m,\u001b[0m\u001b[0;34m\u001b[0m\u001b[0;34m\u001b[0m\u001b[0m\n\u001b[0;32m---> 47\u001b[0;31m                          validate=validate)\n\u001b[0m\u001b[1;32m     48\u001b[0m     \u001b[0;32mreturn\u001b[0m \u001b[0mop\u001b[0m\u001b[0;34m.\u001b[0m\u001b[0mget_result\u001b[0m\u001b[0;34m(\u001b[0m\u001b[0;34m)\u001b[0m\u001b[0;34m\u001b[0m\u001b[0;34m\u001b[0m\u001b[0m\n\u001b[1;32m     49\u001b[0m \u001b[0;34m\u001b[0m\u001b[0m\n",
      "\u001b[0;32m/usr/local/lib/python3.7/site-packages/pandas/core/reshape/merge.py\u001b[0m in \u001b[0;36m__init__\u001b[0;34m(self, left, right, how, on, left_on, right_on, axis, left_index, right_index, sort, suffixes, copy, indicator, validate)\u001b[0m\n\u001b[1;32m    522\u001b[0m             \u001b[0mwarnings\u001b[0m\u001b[0;34m.\u001b[0m\u001b[0mwarn\u001b[0m\u001b[0;34m(\u001b[0m\u001b[0mmsg\u001b[0m\u001b[0;34m,\u001b[0m \u001b[0mUserWarning\u001b[0m\u001b[0;34m)\u001b[0m\u001b[0;34m\u001b[0m\u001b[0;34m\u001b[0m\u001b[0m\n\u001b[1;32m    523\u001b[0m \u001b[0;34m\u001b[0m\u001b[0m\n\u001b[0;32m--> 524\u001b[0;31m         \u001b[0mself\u001b[0m\u001b[0;34m.\u001b[0m\u001b[0m_validate_specification\u001b[0m\u001b[0;34m(\u001b[0m\u001b[0;34m)\u001b[0m\u001b[0;34m\u001b[0m\u001b[0;34m\u001b[0m\u001b[0m\n\u001b[0m\u001b[1;32m    525\u001b[0m \u001b[0;34m\u001b[0m\u001b[0m\n\u001b[1;32m    526\u001b[0m         \u001b[0;31m# note this function has side effects\u001b[0m\u001b[0;34m\u001b[0m\u001b[0;34m\u001b[0m\u001b[0;34m\u001b[0m\u001b[0m\n",
      "\u001b[0;32m/usr/local/lib/python3.7/site-packages/pandas/core/reshape/merge.py\u001b[0m in \u001b[0;36m_validate_specification\u001b[0;34m(self)\u001b[0m\n\u001b[1;32m   1055\u001b[0m                                      'of levels in the index of \"left\"')\n\u001b[1;32m   1056\u001b[0m                 \u001b[0mself\u001b[0m\u001b[0;34m.\u001b[0m\u001b[0mleft_on\u001b[0m \u001b[0;34m=\u001b[0m \u001b[0;34m[\u001b[0m\u001b[0;32mNone\u001b[0m\u001b[0;34m]\u001b[0m \u001b[0;34m*\u001b[0m \u001b[0mn\u001b[0m\u001b[0;34m\u001b[0m\u001b[0;34m\u001b[0m\u001b[0m\n\u001b[0;32m-> 1057\u001b[0;31m         \u001b[0;32mif\u001b[0m \u001b[0mlen\u001b[0m\u001b[0;34m(\u001b[0m\u001b[0mself\u001b[0m\u001b[0;34m.\u001b[0m\u001b[0mright_on\u001b[0m\u001b[0;34m)\u001b[0m \u001b[0;34m!=\u001b[0m \u001b[0mlen\u001b[0m\u001b[0;34m(\u001b[0m\u001b[0mself\u001b[0m\u001b[0;34m.\u001b[0m\u001b[0mleft_on\u001b[0m\u001b[0;34m)\u001b[0m\u001b[0;34m:\u001b[0m\u001b[0;34m\u001b[0m\u001b[0;34m\u001b[0m\u001b[0m\n\u001b[0m\u001b[1;32m   1058\u001b[0m             \u001b[0;32mraise\u001b[0m \u001b[0mValueError\u001b[0m\u001b[0;34m(\u001b[0m\u001b[0;34m\"len(right_on) must equal len(left_on)\"\u001b[0m\u001b[0;34m)\u001b[0m\u001b[0;34m\u001b[0m\u001b[0;34m\u001b[0m\u001b[0m\n\u001b[1;32m   1059\u001b[0m \u001b[0;34m\u001b[0m\u001b[0m\n",
      "\u001b[0;31mTypeError\u001b[0m: object of type 'NoneType' has no len()"
     ]
    }
   ],
   "source": [
    "directory = '/Users/ald533/Desktop/WooLab/Isostamp/'\n",
    "# IMPORTANT: the output from step1 is saved to the output_folder. I suggest moving the step 1 outputs back into this\n",
    "# input folder to run step 2\n",
    "input_folder = 'BY_92_input' \n",
    "output_folder = 'BY_92_output'\n",
    "tmp_folder = 'tmp_folder'\n",
    "target_csv_filename = 'DKM151_cleavage_v4_PSMs.txt'\n",
    "decoy_csv_filename = ''\n",
    "output_filename = 'DKM151_cleavage_PSMs_isostamp.csv'\n",
    "\n",
    "run_database_combine(directory, input_folder, output_folder, target_csv_filename, decoy_csv_filename, output_filename)"
   ]
  },
  {
   "cell_type": "code",
   "execution_count": null,
   "metadata": {},
   "outputs": [],
   "source": []
  },
  {
   "cell_type": "code",
   "execution_count": null,
   "metadata": {},
   "outputs": [],
   "source": []
  }
 ],
 "metadata": {
  "kernelspec": {
   "display_name": "Python 3",
   "language": "python",
   "name": "python3"
  },
  "language_info": {
   "codemirror_mode": {
    "name": "ipython",
    "version": 3
   },
   "file_extension": ".py",
   "mimetype": "text/x-python",
   "name": "python",
   "nbconvert_exporter": "python",
   "pygments_lexer": "ipython3",
   "version": "3.7.4"
  }
 },
 "nbformat": 4,
 "nbformat_minor": 4
}
