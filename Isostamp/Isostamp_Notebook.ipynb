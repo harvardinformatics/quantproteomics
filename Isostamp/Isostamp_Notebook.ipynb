{
 "cells": [
  {
   "cell_type": "code",
   "execution_count": 1,
   "metadata": {},
   "outputs": [],
   "source": [
    "from bin.isostamp_search import run as run_isostamp\n",
    "from bin.database_combine import run as run_database_combine"
   ]
  },
  {
   "cell_type": "code",
   "execution_count": 2,
   "metadata": {},
   "outputs": [
    {
     "name": "stderr",
     "output_type": "stream",
     "text": [
      "INFO:root:CPU detected, 24 threads specified\n",
      "INFO:root:isostamp run: 0, profile mzML file path: 211029L_SAM8138_NV-II-24_SHSY5YDAAM_TMT10_fr1_profile.mzML\n",
      "INFO:root:step 1: split mzml file\n",
      "23640it [02:06, 186.17it/s]\n",
      "INFO:root:splitting mzml file took 2.12 min\n",
      "INFO:root:MS1 df shape: (13078, 4)\n",
      "INFO:root:MS2 df shape: (10562, 5)\n",
      "INFO:root:step 2: transform MS2 precursor info dataframe to unique feature\n",
      "INFO:root:MS2 precursor info into adjacency list\n",
      "INFO:root:perform depth-first search\n",
      "INFO:root:first depth reduces ms2 size from 10562 to 5273\n",
      "INFO:root:step 3: perform depth-first graph search to reduce search redundancy\n",
      "INFO:root:step 4: slice MS1 by runtime (RT) and pass to multiprocess brainpy fitting\n",
      "100%|██████████| 5273/5273 [37:23<00:00,  2.35it/s] \n",
      "INFO:root:running IsoStamp took 40.06 min\n",
      "INFO:root:211029L_SAM8138_NV-II-24_SHSY5YDAAM_TMT10_fr1_ms1df.csv exported with (5273, 12) shape\n",
      "INFO:root:iteration completed in 40.1 minutes\n",
      "INFO:root:isostamp run: 1, profile mzML file path: 211029L_SAM8139_NV-II-24_SHSY5YDAAM_TMT10_fr2_profile.mzML\n",
      "INFO:root:step 1: split mzml file\n",
      "3344it [00:09, 380.32it/s]INFO:root:splitting mzml file took 0.16 min\n"
     ]
    },
    {
     "ename": "UnboundLocalError",
     "evalue": "local variable 'ms1' referenced before assignment",
     "output_type": "error",
     "traceback": [
      "\u001b[0;31m---------------------------------------------------------------------------\u001b[0m",
      "\u001b[0;31mUnboundLocalError\u001b[0m                         Traceback (most recent call last)",
      "\u001b[0;32m<ipython-input-2-bf4d1bbc9197>\u001b[0m in \u001b[0;36m<module>\u001b[0;34m()\u001b[0m\n\u001b[1;32m      3\u001b[0m \u001b[0moutput_folder\u001b[0m \u001b[0;34m=\u001b[0m \u001b[0;34m'NV_II_24_output'\u001b[0m\u001b[0;34m\u001b[0m\u001b[0;34m\u001b[0m\u001b[0m\n\u001b[1;32m      4\u001b[0m \u001b[0;31m#os.environ[\"SLURM_CPUS_ON_NODE\"] = 2\u001b[0m\u001b[0;34m\u001b[0m\u001b[0;34m\u001b[0m\u001b[0;34m\u001b[0m\u001b[0m\n\u001b[0;32m----> 5\u001b[0;31m \u001b[0mrun_isostamp\u001b[0m\u001b[0;34m(\u001b[0m\u001b[0mdirectory\u001b[0m\u001b[0;34m,\u001b[0m \u001b[0minput_folder\u001b[0m\u001b[0;34m,\u001b[0m \u001b[0moutput_folder\u001b[0m\u001b[0;34m,\u001b[0m \u001b[0;36m24\u001b[0m\u001b[0;34m)\u001b[0m\u001b[0;34m\u001b[0m\u001b[0;34m\u001b[0m\u001b[0m\n\u001b[0m",
      "\u001b[0;32m/Users/ald533/Desktop/ProductionAndInformatics/FASInformatics/quantproteomics/Isostamp/bin/isostamp_search.py\u001b[0m in \u001b[0;36mrun\u001b[0;34m(directory, input_folder, output_folder, nprocesses)\u001b[0m\n\u001b[1;32m     24\u001b[0m \u001b[0;34m\u001b[0m\u001b[0m\n\u001b[1;32m     25\u001b[0m         \u001b[0;31m# main script\u001b[0m\u001b[0;34m\u001b[0m\u001b[0;34m\u001b[0m\u001b[0;34m\u001b[0m\u001b[0m\n\u001b[0;32m---> 26\u001b[0;31m         \u001b[0mms1_df\u001b[0m \u001b[0;34m=\u001b[0m \u001b[0mengine\u001b[0m\u001b[0;34m.\u001b[0m\u001b[0misostamp_run\u001b[0m\u001b[0;34m(\u001b[0m\u001b[0mos\u001b[0m\u001b[0;34m.\u001b[0m\u001b[0mpath\u001b[0m\u001b[0;34m.\u001b[0m\u001b[0mjoin\u001b[0m\u001b[0;34m(\u001b[0m\u001b[0minput_path\u001b[0m\u001b[0;34m,\u001b[0m \u001b[0mprofile_file\u001b[0m\u001b[0;34m)\u001b[0m\u001b[0;34m)\u001b[0m\u001b[0;34m\u001b[0m\u001b[0;34m\u001b[0m\u001b[0m\n\u001b[0m\u001b[1;32m     27\u001b[0m \u001b[0;34m\u001b[0m\u001b[0m\n\u001b[1;32m     28\u001b[0m         \u001b[0;31m# assumes an input file structure of a [unique_file_identifier]_profile.mzML\u001b[0m\u001b[0;34m\u001b[0m\u001b[0;34m\u001b[0m\u001b[0;34m\u001b[0m\u001b[0m\n",
      "\u001b[0;32m/Users/ald533/Desktop/ProductionAndInformatics/FASInformatics/quantproteomics/Isostamp/isostamp_engine.py\u001b[0m in \u001b[0;36misostamp_run\u001b[0;34m(self, mzml_path)\u001b[0m\n\u001b[1;32m    247\u001b[0m \u001b[0;34m\u001b[0m\u001b[0m\n\u001b[1;32m    248\u001b[0m         \u001b[0mlogging\u001b[0m\u001b[0;34m.\u001b[0m\u001b[0minfo\u001b[0m\u001b[0;34m(\u001b[0m\u001b[0;34mf'splitting mzml file took {((time.time()-time_start)/60.):.2f} min'\u001b[0m\u001b[0;34m)\u001b[0m\u001b[0;34m\u001b[0m\u001b[0;34m\u001b[0m\u001b[0m\n\u001b[0;32m--> 249\u001b[0;31m         \u001b[0mlogging\u001b[0m\u001b[0;34m.\u001b[0m\u001b[0minfo\u001b[0m\u001b[0;34m(\u001b[0m\u001b[0;34mf'MS1 df shape: {ms1.shape}'\u001b[0m\u001b[0;34m)\u001b[0m\u001b[0;34m\u001b[0m\u001b[0;34m\u001b[0m\u001b[0m\n\u001b[0m\u001b[1;32m    250\u001b[0m         \u001b[0mlogging\u001b[0m\u001b[0;34m.\u001b[0m\u001b[0minfo\u001b[0m\u001b[0;34m(\u001b[0m\u001b[0;34mf'MS2 df shape: {ms2.shape}'\u001b[0m\u001b[0;34m)\u001b[0m\u001b[0;34m\u001b[0m\u001b[0;34m\u001b[0m\u001b[0m\n\u001b[1;32m    251\u001b[0m \u001b[0;34m\u001b[0m\u001b[0m\n",
      "\u001b[0;31mUnboundLocalError\u001b[0m: local variable 'ms1' referenced before assignment"
     ]
    },
    {
     "name": "stderr",
     "output_type": "stream",
     "text": [
      "\r",
      "3344it [00:20, 380.32it/s]"
     ]
    }
   ],
   "source": [
    "directory = '/Users/ald533/Desktop/WooLab/Isostamp/'\n",
    "input_folder = 'NV_II_24_input'\n",
    "output_folder = 'NV_II_24_output'\n",
    "#os.environ[\"SLURM_CPUS_ON_NODE\"] = 2\n",
    "run_isostamp(directory, input_folder, output_folder, 24)"
   ]
  },
  {
   "cell_type": "code",
   "execution_count": 5,
   "metadata": {},
   "outputs": [
    {
     "name": "stderr",
     "output_type": "stream",
     "text": [
      "INFO:root:read Sequest target and/or decoy files\n",
      "INFO:root:running 201217L_SAM07854_BY92_CF_6.raw\n",
      "INFO:root:running 201217L_SAM07854_BY92_CF_4.raw\n",
      "INFO:root:running 201217L_SAM07854_BY92_CF_5.raw\n",
      "INFO:root:running 201217L_SAM07854_BY92_CF_2.raw\n",
      "INFO:root:running 201217L_SAM07854_BY92_CF_3.raw\n",
      "INFO:root:running 201217L_SAM07854_BY92_CF_1.raw\n",
      "INFO:root:step 4. apply 40% normalized isostamp score and %60 normalized xcorrelation weighting\n",
      "INFO:root:step 5. re-rank by Target-Decoy Approach\n",
      "INFO:root:target Sequest search result CSV file path: /Users/ald533/Desktop/WooLab/Isostamp/BY_92_input/201217L_SAM07854_BY92_CF.txt\n",
      "INFO:root:decoy Sequest search result CSV file path: None\n",
      "INFO:root:Completed in 0.01 minutes\n"
     ]
    }
   ],
   "source": [
    "directory = '/Users/ald533/Desktop/WooLab/Isostamp/'\n",
    "# IMPORTANT: the output from step1 is saved to the output_folder. I suggest moving the step 1 outputs back into this\n",
    "# input folder to run step 2\n",
    "input_folder = 'BY_92_input' \n",
    "output_folder = 'BY_92_output'\n",
    "tmp_folder = 'tmp_folder'\n",
    "target_csv_filename = '201217L_SAM07854_BY92_CF.txt'\n",
    "decoy_csv_filename = ''\n",
    "output_filename = '201217L_SAM07854_BY92_CF_isostamp.csv'\n",
    "\n",
    "run_database_combine(directory, input_folder, output_folder, target_csv_filename, decoy_csv_filename, output_filename)"
   ]
  },
  {
   "cell_type": "code",
   "execution_count": null,
   "metadata": {},
   "outputs": [],
   "source": []
  },
  {
   "cell_type": "code",
   "execution_count": null,
   "metadata": {},
   "outputs": [],
   "source": []
  }
 ],
 "metadata": {
  "kernelspec": {
   "display_name": "Python 3",
   "language": "python",
   "name": "python3"
  },
  "language_info": {
   "codemirror_mode": {
    "name": "ipython",
    "version": 3
   },
   "file_extension": ".py",
   "mimetype": "text/x-python",
   "name": "python",
   "nbconvert_exporter": "python",
   "pygments_lexer": "ipython3",
   "version": "3.7.4"
  }
 },
 "nbformat": 4,
 "nbformat_minor": 4
}
