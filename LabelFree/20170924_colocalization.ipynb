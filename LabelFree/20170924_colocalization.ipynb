{
 "cells": [
  {
   "cell_type": "code",
   "execution_count": 1,
   "metadata": {
    "collapsed": true
   },
   "outputs": [],
   "source": [
    "import pandas as pd\n",
    "import time\n",
    "import numpy as np\n",
    "import pylab as plt\n",
    "%matplotlib inline"
   ]
  },
  {
   "cell_type": "markdown",
   "metadata": {},
   "source": [
    "# Data Import"
   ]
  },
  {
   "cell_type": "raw",
   "metadata": {},
   "source": [
    "On 9/24/2017 AndrewH downloaded this notebook from\n",
    "    Google Drive: https://drive.google.com/drive/u/1/folders/0B_1FpVTdVM7iR1RnWWhsd2dzSUU\n",
    "    Path: TCellOGlcNAcArticle/Old Files/Apr292016/uniprot_compare/untitled.ipynb"
   ]
  },
  {
   "cell_type": "code",
   "execution_count": 2,
   "metadata": {
    "collapsed": false
   },
   "outputs": [],
   "source": [
    "folder = '/Users/ahuang/code/personal/CW5-169/data/'\n",
    "\n",
    "#Trypsin datafiles\n",
    "glycopeptide = 'df_reference_glycan_trypsin_FINAL.xlsx'\n",
    "#chymotrypsin datafiles\n",
    "glycopeptide_chymo = 'df_reference_glycan_chymo.xlsx'\n",
    "\n",
    "dfg = pd.read_excel((folder + glycopeptide), sheetname='Sheet1')\n",
    "dfg_chymo = pd.read_excel((folder + glycopeptide_chymo), sheetname='Sheet1')\n",
    "\n",
    "#Glycoprotein fasta file\n",
    "fasta = 'UniprotFasta.xlsx'\n",
    "dffasta = pd.read_excel((folder + fasta) ,sheetname='Sheet1')\n",
    "\n",
    "phosphosite = 'Phosphorylation_site_dataset.xlsx'\n",
    "dfp = pd.read_excel((folder + phosphosite),sheetname='Sheet1')"
   ]
  },
  {
   "cell_type": "code",
   "execution_count": 6,
   "metadata": {
    "collapsed": false
   },
   "outputs": [],
   "source": [
    "df = pd.read_excel((folder + 'MasterOGlcNAc_uniprot_4-29-2016.xlsx'))\n",
    "df['Binding_site_parse'] = df['Binding site'].str.split(';')"
   ]
  },
  {
   "cell_type": "code",
   "execution_count": 4,
   "metadata": {
    "collapsed": false
   },
   "outputs": [
    {
     "name": "stdout",
     "output_type": "stream",
     "text": [
      "(973, 26)\n",
      "973\n"
     ]
    }
   ],
   "source": [
    "#entry is the primary key\n",
    "print(df.shape)\n",
    "print(df['Entry'].nunique())"
   ]
  },
  {
   "cell_type": "code",
   "execution_count": 107,
   "metadata": {
    "collapsed": true
   },
   "outputs": [],
   "source": [
    "def try_int(x):\n",
    "    try:\n",
    "        return int(x)\n",
    "    except ValueError:\n",
    "        return x\n",
    "    \n",
    "def site_diff(a, b, site_diff_limit=99999, allow_description=False):\n",
    "    # cross product of a and b modsites. calculates the pairwise distance and take the minimum\n",
    "    start = time.time()\n",
    "    \n",
    "    #reset index adds the index as a column that the groupby function references to find the smallest site difference\n",
    "    c = a.reset_index().merge(b, left_on='Protein Group Accessions', right_on='ACC_ID', how='outer')\n",
    "    c['Site_diff'] = np.abs(c['Mod Site'] - c['SiteNumber'])\n",
    "    \n",
    "    if allow_description:\n",
    "        output = c.sort_values(['index','Site_diff']).groupby('index').first()[['SiteNumber','Site_diff','Description']]\n",
    "    else:\n",
    "        output = c.sort_values(['index','Site_diff']).groupby('index').first()[['SiteNumber','Site_diff']]\n",
    "    print('run time seconds: {}'.format(time.time() - start))\n",
    "\n",
    "    #return output.reset_index()\n",
    "    return output[output['Site_diff'] <= site_diff_limit].reset_index()\n",
    "\n",
    "def structure_diff(a, b, site_diff_limit=99999):\n",
    "    start = time.time()\n",
    "    \n",
    "    #reset index adds the index as a column that the groupby function references to find the smallest site difference\n",
    "    c = a.reset_index().merge(b, left_on='Protein Group Accessions', right_on='Entry', how='outer')\n",
    "    c['Mod_bound'] = (c['Start_site'] <= c['Mod Site']) & (c['End_site'] >= c['Mod Site'])\n",
    "\n",
    "    output = c.groupby(['index','Protein Group Accessions','Mod Site']).sum()['Mod_bound']\n",
    "    output = output.reset_index().drop(['Protein Group Accessions','Mod Site'],1)\n",
    "    \n",
    "    print('run time seconds: {}'.format(time.time() - start))\n",
    "    return output"
   ]
  },
  {
   "cell_type": "code",
   "execution_count": 120,
   "metadata": {
    "collapsed": false
   },
   "outputs": [],
   "source": [
    "a = pd.DataFrame({'Protein Group Accessions':'abc','Mod Site':[1,2,4]})\n",
    "b = pd.DataFrame({'ACC_ID':'abc','SiteNumber':[5,8,10,12]})\n",
    "c = a.reset_index().merge(b, left_on='Protein Group Accessions', right_on='ACC_ID', how='outer')\n",
    "c['Site_diff'] = np.abs(c['Mod Site'] - c['SiteNumber'])\n",
    "output = c.sort_values(['index','Site_diff']).groupby('index').first()[['SiteNumber','Site_diff']]"
   ]
  },
  {
   "cell_type": "markdown",
   "metadata": {},
   "source": [
    "# Prior work as of 09/24/2017"
   ]
  },
  {
   "cell_type": "code",
   "execution_count": 130,
   "metadata": {
    "collapsed": false,
    "scrolled": false
   },
   "outputs": [
    {
     "name": "stdout",
     "output_type": "stream",
     "text": [
      "Binding site\n",
      "Metal binding\n",
      "DNA binding\n",
      "Calcium binding\n",
      "Active site\n",
      "Nucleotide binding\n",
      "Modified residue\n"
     ]
    }
   ],
   "source": [
    "#building_columns -> column -> row within column -> entry -> evaluate elements within an entry\n",
    "#converts string elements within an entry\n",
    "\n",
    "site_df = pd.DataFrame(columns=['Entry','Column','Start_site','End_site','Description'])   \n",
    "binding_columns = ['Binding site','Metal binding','DNA binding','Calcium binding',\n",
    "                   'Active site','Nucleotide binding','Modified residue']\n",
    "\n",
    "#loop through each column of binding columns\n",
    "for column in binding_columns:\n",
    "    print(column)\n",
    "    #some rows in the column have np.nan. filter out nulls\n",
    "    df_temp = df.loc[df[column].notnull(), ['Entry', column]].reset_index(drop=True)\n",
    "    \n",
    "    #each row can have multiple sites. delimited by ;. each delimited section is called an \"entry\"\n",
    "    for idx, _ in enumerate(df_temp[column].str.split(';')):   \n",
    "        \n",
    "        #I'm assuming that the start site is at index 1, end site at index 2\n",
    "        #test that: 1. the entry has at least 3 elements\n",
    "        # that index 1 and index 2 are both integers\n",
    "        for entry in _:\n",
    "            entry_list = entry.split()\n",
    "            if len(entry_list) >=3:\n",
    "                entry_list = [try_int(x) for x in entry_list]\n",
    "                if type(entry_list[1]) == int and type(entry_list[2]) == int:\n",
    "                    \n",
    "                    #insert the results into a output_df\n",
    "                    if len(entry_list) == 3:\n",
    "                        site_df.loc[len(site_df)]= [df_temp.loc[idx,'Entry'], column, entry_list[1], entry_list[2], np.nan]\n",
    "                    else:\n",
    "                        site_df.loc[len(site_df)]= [df_temp.loc[idx,'Entry'], column, entry_list[1], entry_list[2], entry_list[3]]\n",
    "                    \n",
    "                    \n",
    "site_df['Mean_site'] = (site_df['Start_site'] + site_df['End_site'])/2"
   ]
  },
  {
   "cell_type": "code",
   "execution_count": null,
   "metadata": {
    "collapsed": false
   },
   "outputs": [],
   "source": [
    "location_df = pd.DataFrame(columns=['Entry','Column','Subcellular_location'])   \n",
    "binding_columns = ['Subcellular location [CC]']\n",
    "\n",
    "for column in binding_columns:    \n",
    "    df_temp = df.loc[df[column].notnull(), ['Entry', column]].reset_index(drop=True)\n",
    "    \n",
    "    for idx, _ in enumerate(df_temp[column].str.split(';')):   \n",
    "        \n",
    "        for entry in _:\n",
    "            entry_list = entry.split()\n",
    "            if len(entry_list) >=5:\n",
    "                entry_list = [try_int(x) for x in entry_list]\n",
    "                #assuming that the subcellular location follows \"LOCATION:\"\n",
    "                if entry_list[1] == 'LOCATION:':\n",
    "                    \n",
    "                    #insert the results into a dataframe\n",
    "                    location_df.loc[len(location_df)]= [df_temp.loc[idx,'Entry'], column, entry_list[4] ]"
   ]
  },
  {
   "cell_type": "code",
   "execution_count": 9,
   "metadata": {
    "collapsed": false
   },
   "outputs": [],
   "source": [
    "# location_df.to_excel('subcellularlocalization.xlsx')"
   ]
  },
  {
   "cell_type": "code",
   "execution_count": null,
   "metadata": {
    "collapsed": false
   },
   "outputs": [],
   "source": [
    "structure_df = pd.DataFrame(columns=['Entry','Column','Structure','Start_site','End_site'])   \n",
    "binding_columns = ['Beta strand','Helix','Turn']\n",
    "\n",
    "for column in binding_columns:\n",
    "    \n",
    "    df_temp = df.loc[df[column].notnull(), ['Entry', column]].reset_index(drop=True)\n",
    "    \n",
    "    for idx, _ in enumerate(df_temp[column].str.split(';')):   \n",
    "        \n",
    "        for entry in _:\n",
    "            entry_list = entry.split()\n",
    "            if len(entry_list) >=3:\n",
    "                entry_list = [try_int(x) for x in entry_list]\n",
    "                #assuming that the structure location follows \"LOCATION:\"\n",
    "                if type(entry_list[1]) == int and type(entry_list[2]) == int:\n",
    "                    \n",
    "                    structure_df.loc[len(structure_df)]= [df_temp.loc[idx,'Entry'], column, entry_list[0], entry_list[1], entry_list[2] ]"
   ]
  },
  {
   "cell_type": "code",
   "execution_count": 20,
   "metadata": {
    "collapsed": false,
    "scrolled": true
   },
   "outputs": [
    {
     "name": "stdout",
     "output_type": "stream",
     "text": [
      "run time seconds: 0.3225719928741455\n"
     ]
    }
   ],
   "source": [
    "a = dfg_chymo[['Protein Group Accessions','Mod Site']]\n",
    "b = dfp[['ACC_ID','SiteNumber']]\n",
    "\n",
    "output = site_diff(a,b)\n",
    "dfg_chymo_to_dfp = a.reset_index().merge(output, left_on='index', right_on='index', how='left')"
   ]
  },
  {
   "cell_type": "code",
   "execution_count": 21,
   "metadata": {
    "collapsed": false
   },
   "outputs": [
    {
     "name": "stdout",
     "output_type": "stream",
     "text": [
      "run time seconds: 0.46935009956359863\n"
     ]
    }
   ],
   "source": [
    "a = dfg[['Protein Group Accessions','Mod Site']]\n",
    "b = dfp[['ACC_ID','SiteNumber']]\n",
    "\n",
    "output = site_diff(a,b)\n",
    "dfg_to_dfp = a.reset_index().merge(output, left_on='index', right_on='index', how='left')"
   ]
  },
  {
   "cell_type": "code",
   "execution_count": 13,
   "metadata": {
    "collapsed": false
   },
   "outputs": [
    {
     "name": "stderr",
     "output_type": "stream",
     "text": [
      "/usr/local/lib/python3.6/site-packages/ipykernel_launcher.py:3: DeprecationWarning: \n",
      ".ix is deprecated. Please use\n",
      ".loc for label based indexing or\n",
      ".iloc for positional indexing\n",
      "\n",
      "See the documentation here:\n",
      "http://pandas.pydata.org/pandas-docs/stable/indexing.html#ix-indexer-is-deprecated\n",
      "  This is separate from the ipykernel package so we can avoid doing imports until\n"
     ]
    },
    {
     "name": "stdout",
     "output_type": "stream",
     "text": [
      "run time seconds: 0.024289846420288086\n",
      "run time seconds: 0.024731874465942383\n",
      "run time seconds: 0.02105998992919922\n",
      "run time seconds: 0.019133806228637695\n",
      "run time seconds: 0.02048778533935547\n",
      "run time seconds: 0.02067089080810547\n",
      "run time seconds: 0.13564324378967285\n"
     ]
    }
   ],
   "source": [
    "a = dfg[['Protein Group Accessions','Mod Site']]\n",
    "\n",
    "b = site_df.loc[site_df['Column'] == 'Binding site',['Entry','Mean_site']]\n",
    "b.columns = ['ACC_ID','SiteNumber']\n",
    "output = site_diff(a,b)\n",
    "dfg_to_uniprot_BS = a.reset_index().merge(output, left_on='index', right_on='index', how='left')\n",
    "\n",
    "b = site_df.loc[site_df['Column'] == 'Metal binding',['Entry','Mean_site']]\n",
    "b.columns = ['ACC_ID','SiteNumber']\n",
    "output = site_diff(a,b)\n",
    "dfg_to_uniprot_MB = a.reset_index().merge(output, left_on='index', right_on='index', how='left')\n",
    "\n",
    "b = site_df.loc[site_df['Column'] == 'DNA binding',['Entry','Mean_site']]\n",
    "b.columns = ['ACC_ID','SiteNumber']\n",
    "output = site_diff(a,b)\n",
    "dfg_to_uniprot_DB = a.reset_index().merge(output, left_on='index', right_on='index', how='left')\n",
    "\n",
    "b = site_df.loc[site_df['Column'] == 'Calcium binding',['Entry','Mean_site']]\n",
    "b.columns = ['ACC_ID','SiteNumber']\n",
    "output = site_diff(a,b)\n",
    "dfg_to_uniprot_CB = a.reset_index().merge(output, left_on='index', right_on='index', how='left')\n",
    "\n",
    "b = site_df.loc[site_df['Column'] == 'Active site',['Entry','Mean_site']]\n",
    "b.columns = ['ACC_ID','SiteNumber']\n",
    "output = site_diff(a,b)\n",
    "dfg_to_uniprot_AS = a.reset_index().merge(output, left_on='index', right_on='index', how='left')\n",
    "\n",
    "b = site_df.loc[site_df['Column'] == 'Nucleotide binding',['Entry','Mean_site']]\n",
    "b.columns = ['ACC_ID','SiteNumber']\n",
    "output = site_diff(a,b)\n",
    "dfg_to_uniprot_NB = a.reset_index().merge(output, left_on='index', right_on='index', how='left')\n",
    "\n",
    "# AHUANG 09/24/17 I removed the description field for consistency with the dataframes above\n",
    "b = site_df.loc[site_df['Column'] == 'Modified residue',['Entry','Mean_site']]\n",
    "b.columns = ['ACC_ID','SiteNumber']\n",
    "output = site_diff(a,b)\n",
    "dfg_to_uniprot_MR = a.reset_index().merge(output, left_on='index', right_on='index', how='left')"
   ]
  },
  {
   "cell_type": "code",
   "execution_count": 14,
   "metadata": {
    "collapsed": false,
    "scrolled": false
   },
   "outputs": [
    {
     "name": "stdout",
     "output_type": "stream",
     "text": [
      "run time seconds: 0.017508745193481445\n",
      "run time seconds: 0.020408153533935547\n",
      "run time seconds: 0.018838882446289062\n",
      "run time seconds: 0.01601409912109375\n",
      "run time seconds: 0.01584601402282715\n",
      "run time seconds: 0.015785932540893555\n",
      "run time seconds: 0.10007691383361816\n"
     ]
    }
   ],
   "source": [
    "a = dfg_chymo[['Protein Group Accessions','Mod Site']]\n",
    "\n",
    "b = site_df.loc[site_df['Column'] == 'Binding site',['Entry','Mean_site']]\n",
    "b.columns = ['ACC_ID','SiteNumber']\n",
    "output = site_diff(a,b)\n",
    "dfg_chymo_to_uniprot_BS = a.reset_index().merge(output, left_on='index', right_on='index', how='left')\n",
    "\n",
    "b = site_df.loc[site_df['Column'] == 'Metal binding',['Entry','Mean_site']]\n",
    "b.columns = ['ACC_ID','SiteNumber']\n",
    "output = site_diff(a,b)\n",
    "dfg_chymo_to_uniprot_MB = a.reset_index().merge(output, left_on='index', right_on='index', how='left')\n",
    "\n",
    "b = site_df.loc[site_df['Column'] == 'DNA binding',['Entry','Mean_site']]\n",
    "b.columns = ['ACC_ID','SiteNumber']\n",
    "output = site_diff(a,b)\n",
    "dfg_chymo_to_uniprot_DB = a.reset_index().merge(output, left_on='index', right_on='index', how='left')\n",
    "\n",
    "b = site_df.loc[site_df['Column'] == 'Calcium binding',['Entry','Mean_site']]\n",
    "b.columns = ['ACC_ID','SiteNumber']\n",
    "output = site_diff(a,b)\n",
    "dfg_chymo_to_uniprot_CB = a.reset_index().merge(output, left_on='index', right_on='index', how='left')\n",
    "\n",
    "b = site_df.loc[site_df['Column'] == 'Active site',['Entry','Mean_site']]\n",
    "b.columns = ['ACC_ID','SiteNumber']\n",
    "output = site_diff(a,b)\n",
    "dfg_chymo_to_uniprot_AS = a.reset_index().merge(output, left_on='index', right_on='index', how='left')\n",
    "\n",
    "b = site_df.loc[site_df['Column'] == 'Nucleotide binding',['Entry','Mean_site']]\n",
    "b.columns = ['ACC_ID','SiteNumber']\n",
    "output = site_diff(a,b)\n",
    "dfg_chymo_to_uniprot_NB = a.reset_index().merge(output, left_on='index', right_on='index', how='left')\n",
    "\n",
    "b = site_df.loc[site_df['Column'] == 'Modified residue',['Entry','Mean_site','Description']]\n",
    "b.columns = ['ACC_ID','SiteNumber','Description']\n",
    "output = site_diff(a,b)\n",
    "dfg_chymo_to_uniprot_MR = a.reset_index().merge(output, left_on='index', right_on='index', how='left')"
   ]
  },
  {
   "cell_type": "code",
   "execution_count": null,
   "metadata": {
    "collapsed": true
   },
   "outputs": [],
   "source": [
    "#dfg_to_uniprot_sites = dfg_to_uniprot_BS.merge(dfg_to_uniprot_NB[['SiteNumber', 'Site_diff']], left_index=True, right_index=True)"
   ]
  },
  {
   "cell_type": "code",
   "execution_count": null,
   "metadata": {
    "collapsed": false
   },
   "outputs": [],
   "source": [
    "a = dfg[['Protein Group Accessions','Mod Site']]\n",
    "\n",
    "b = structure_df.loc[structure_df['Column'] == 'Beta strand', ['Entry','Start_site','End_site']]\n",
    "output = structure_diff(a,b)\n",
    "dfg_to_structure_B = a.reset_index().merge(output, left_on='index', right_on='index', how='left')\n",
    "\n",
    "b = structure_df.loc[structure_df['Column'] == 'Helix', ['Entry','Start_site','End_site']]\n",
    "output = structure_diff(a,b)\n",
    "dfg_to_structure_H = a.reset_index().merge(output, left_on='index', right_on='index', how='left')\n",
    "\n",
    "b = structure_df.loc[structure_df['Column'] == 'Turn', ['Entry','Start_site','End_site']]\n",
    "output = structure_diff(a,b)\n",
    "dfg_to_structure_T = a.reset_index().merge(output, left_on='index', right_on='index', how='left')\n"
   ]
  },
  {
   "cell_type": "code",
   "execution_count": 28,
   "metadata": {
    "collapsed": false
   },
   "outputs": [
    {
     "name": "stdout",
     "output_type": "stream",
     "text": [
      "run time seconds: 0.04165291786193848\n",
      "run time seconds: 0.024344682693481445\n",
      "run time seconds: 0.01676487922668457\n"
     ]
    }
   ],
   "source": [
    "a = dfg_chymo[['Protein Group Accessions','Mod Site']]\n",
    "\n",
    "b = structure_df.ix[structure_df['Column'] == 'Beta strand', ['Entry','Start_site','End_site']]\n",
    "output = structure_diff(a,b)\n",
    "dfg_chymo_to_structure_B = a.reset_index().merge(output, left_on='index', right_on='index', how='left')\n",
    "\n",
    "b = structure_df.ix[structure_df['Column'] == 'Helix', ['Entry','Start_site','End_site']]\n",
    "output = structure_diff(a,b)\n",
    "dfg_chymo_to_structure_H = a.reset_index().merge(output, left_on='index', right_on='index', how='left')\n",
    "\n",
    "b = structure_df.ix[structure_df['Column'] == 'Turn', ['Entry','Start_site','End_site']]\n",
    "output = structure_diff(a,b)\n",
    "dfg_chymo_to_structure_T = a.reset_index().merge(output, left_on='index', right_on='index', how='left')"
   ]
  },
  {
   "cell_type": "markdown",
   "metadata": {
    "collapsed": true
   },
   "source": [
    "# New work on 09/24/17"
   ]
  },
  {
   "cell_type": "code",
   "execution_count": 16,
   "metadata": {
    "collapsed": false
   },
   "outputs": [],
   "source": [
    "dfs = [dfg_chymo_to_uniprot_AS, dfg_chymo_to_uniprot_BS, dfg_chymo_to_uniprot_CB, dfg_chymo_to_uniprot_DB, dfg_chymo_to_uniprot_MB,dfg_chymo_to_uniprot_MR, dfg_chymo_to_uniprot_NB]\n",
    "dfg_chymo = pd.concat(dfs).reset_index(drop=True)\n",
    "\n",
    "# hacky way to add a column with the site type\n",
    "site_type_list = ['AS','BS','CB','DB','MB','MR','NB']\n",
    "site_type = [[site] * df.shape[0] for df, site in zip(dfs, site_type_list)]\n",
    "flat_list = [item for sublist in site_type for item in sublist]\n",
    "dfg_chymo['site_type'] = flat_list"
   ]
  },
  {
   "cell_type": "code",
   "execution_count": 17,
   "metadata": {
    "collapsed": false
   },
   "outputs": [],
   "source": [
    "dfs = [dfg_to_uniprot_AS ,dfg_to_uniprot_BS , dfg_to_uniprot_CB ,dfg_to_uniprot_DB ,dfg_to_uniprot_MB ,dfg_to_uniprot_MR ,dfg_to_uniprot_NB]\n",
    "dfg_trypsin = pd.concat(dfs)\n",
    "\n",
    "# hacky way to add a column with the site type\n",
    "site_type_list = ['AS','BS','CB','DB','MB','MR','NB']\n",
    "site_type = [[site] * df.shape[0] for df, site in zip(dfs, site_type_list)]\n",
    "flat_list = [item for sublist in site_type for item in sublist]\n",
    "dfg_trypsin['site_type'] = flat_list"
   ]
  },
  {
   "cell_type": "code",
   "execution_count": 18,
   "metadata": {
    "collapsed": false
   },
   "outputs": [],
   "source": [
    "df = pd.concat([dfg_trypsin, dfg_chymo]).dropna()"
   ]
  },
  {
   "cell_type": "markdown",
   "metadata": {
    "heading_collapsed": true
   },
   "source": [
    "## example diff calculation (purely educational to re-familiarize AndrewH with calculation)"
   ]
  },
  {
   "cell_type": "code",
   "execution_count": 142,
   "metadata": {
    "collapsed": false,
    "hidden": true
   },
   "outputs": [
    {
     "name": "stdout",
     "output_type": "stream",
     "text": [
      "run time seconds: 0.026700973510742188\n"
     ]
    }
   ],
   "source": [
    "a = dfg[['Protein Group Accessions','Mod Site']]\n",
    "\n",
    "b = site_df.loc[site_df['Column'] == 'Binding site',['Entry','Mean_site']]\n",
    "b.columns = ['ACC_ID','SiteNumber']\n",
    "output = site_diff(a,b)\n",
    "dfg_to_uniprot_BS = a.reset_index().merge(output, left_on='index', right_on='index', how='left')"
   ]
  },
  {
   "cell_type": "code",
   "execution_count": 168,
   "metadata": {
    "collapsed": false,
    "hidden": true
   },
   "outputs": [
    {
     "name": "stdout",
     "output_type": "stream",
     "text": [
      "[ 'MVEPGQDLLLAALSESGISPNDLFDIDGGDAGLATPMPTPSVQQSVPLSALELGLETEAAVPVKQEPETVPTPALLNVRQQPPSTTTFVLNQINHLPPLGSTIVMTKTPPVTTNRQTITLTKFIQTTASTRPSVSAPTVRNAMTSAPSKDQVQLKDLLKNNSLNELMKLKPPANIAQPVATAATDVSNGTVKKESSNKEGARMWINDMKMRSFSPTMKVPVVKEDDEPEEEDEEEMGHAETYAEYMPIKLKIGLRHPDAVVETSSLSSVTPPDVWYKTSISEETIDNGWLSALQLEAITYAAQQHETFLPNGDRAGFLIGDGAGVGKGRTIAGIIYENYLLSRKRALWFSVSNDLKYDAERDLRDIGAKNILVHSLNKFKYGKISSKHNGSVKKGVIFATYSSLIGESQSGGKYKTRLKQLLHWCGDDFDGVIVFDECHKAKNLCPVGSSKPTKTGLAVLELQNKLPKARVVYASATGASEPRNMAYMNRLGIWGEGTPFREFSDFIQAVERRGVGAMEIVAMDMKLRGMYIARQLSFTGVTFKIEEVLLSQSYVKMYNKAVKLWVIARERFQQAADLIDAEQRMKKSMWGQFWSAHQRFFKYLCIASKVKRVVQLAREEIKNGKCVVIGLQSTGEARTLEALEEGGGELNDFVSTAKGVLQSLIEKHFPAPDRKKLYSLLGIDLTAPSNNSSPRDSPCKENKIKKRKGEEITREAKKARKVGGLTGSSSDDSGSESDASDNEESDYESSKNMSSGDDDDFNPFLDESNEDDENDPWLIRKDHKKNKEKKKKKSIDPDSIQSALLASGLGSKRPSFSSTPVISPAPNSTPANSNTNSNSSLITSQDAVERAQQMKKDLLDKLEKLAEDLPPNTLDELIDELGGPENVAEMTGRKGRVVSNDDGSISYESRSELDVPVEILNITEKQRFMDGDKNIAIISEAASSGISLQADRRAKNQRRRVHMTLELPWSADRAIQQFGRTHRSNQVTAPEYVFLISELAGEQRFASIVAKRLESLGALTHGDRRATESRDLSRFNFDNKYGRNALEIVMKSIVNLDSPMVSPPPDYPGEFFKDVRQGLIGVGLINVEDRSGILTLDKDYNNIGKFLNRILGMEVHQQNALFQYFADTLTAVVQNAKKNGRYDMGILDLGSGDEKVRKSDVKKFLTPGYSTSGHVELYTISVERGMSWEEATKIWAELTGPDDGFYLSLQIRNNKKTAILVKEVNPKKKLFLVYRPNTGKQLKLEIYADLKKKYKKVVSDDALMHWLDQYNSSADTCTHAYWRGNCKKASLGLVCEIGLRCRTYYVLCGSVLSVWTKVEGVLASVSGTNVKMQIVRLRTEDGQRIVGLIIPANCVSPLVNLLSTSDQSQQLAVQQKQLWQQHHPQSITNLSNA']\n"
     ]
    }
   ],
   "source": [
    "print(dffasta[dffasta['Entry'] == 'A3KN83'].Sequence.values)"
   ]
  },
  {
   "cell_type": "code",
   "execution_count": 154,
   "metadata": {
    "collapsed": false,
    "hidden": true
   },
   "outputs": [
    {
     "data": {
      "text/plain": [
       "(306, 2)"
      ]
     },
     "execution_count": 154,
     "metadata": {},
     "output_type": "execute_result"
    }
   ],
   "source": [
    "b.shape"
   ]
  },
  {
   "cell_type": "code",
   "execution_count": null,
   "metadata": {
    "collapsed": true,
    "hidden": true
   },
   "outputs": [],
   "source": [
    "for a protein group accession:    \n",
    "    pick a random  associated with gene name"
   ]
  },
  {
   "cell_type": "code",
   "execution_count": 164,
   "metadata": {
    "collapsed": false,
    "hidden": true
   },
   "outputs": [
    {
     "data": {
      "text/html": [
       "<div>\n",
       "<style>\n",
       "    .dataframe thead tr:only-child th {\n",
       "        text-align: right;\n",
       "    }\n",
       "\n",
       "    .dataframe thead th {\n",
       "        text-align: left;\n",
       "    }\n",
       "\n",
       "    .dataframe tbody tr th {\n",
       "        vertical-align: top;\n",
       "    }\n",
       "</style>\n",
       "<table border=\"1\" class=\"dataframe\">\n",
       "  <thead>\n",
       "    <tr style=\"text-align: right;\">\n",
       "      <th></th>\n",
       "      <th>Entry</th>\n",
       "      <th>Mean_site</th>\n",
       "    </tr>\n",
       "  </thead>\n",
       "  <tbody>\n",
       "    <tr>\n",
       "      <th>0</th>\n",
       "      <td>O60502</td>\n",
       "      <td>67</td>\n",
       "    </tr>\n",
       "    <tr>\n",
       "      <th>1</th>\n",
       "      <td>O60502</td>\n",
       "      <td>98</td>\n",
       "    </tr>\n",
       "    <tr>\n",
       "      <th>2</th>\n",
       "      <td>O60502</td>\n",
       "      <td>174</td>\n",
       "    </tr>\n",
       "    <tr>\n",
       "      <th>3</th>\n",
       "      <td>O60502</td>\n",
       "      <td>219</td>\n",
       "    </tr>\n",
       "    <tr>\n",
       "      <th>4</th>\n",
       "      <td>O60502</td>\n",
       "      <td>285</td>\n",
       "    </tr>\n",
       "  </tbody>\n",
       "</table>\n",
       "</div>"
      ],
      "text/plain": [
       "    Entry Mean_site\n",
       "0  O60502        67\n",
       "1  O60502        98\n",
       "2  O60502       174\n",
       "3  O60502       219\n",
       "4  O60502       285"
      ]
     },
     "execution_count": 164,
     "metadata": {},
     "output_type": "execute_result"
    }
   ],
   "source": [
    "site_df.loc[site_df['Column'] == 'Binding site',['Entry','Mean_site']].head()"
   ]
  },
  {
   "cell_type": "markdown",
   "metadata": {},
   "source": [
    "## select a random mod site from FASTA"
   ]
  },
  {
   "cell_type": "code",
   "execution_count": 21,
   "metadata": {
    "collapsed": true
   },
   "outputs": [],
   "source": [
    "def find(s, ch):\n",
    "    return [i for i, ltr in enumerate(s) if ltr == ch]\n",
    "\n",
    "def random_modsite(sequence):\n",
    "    candidate_modsites = find(sequence, 'S') + find(sequence, 'T')\n",
    "    return np.random.choice(candidate_modsites)\n",
    "\n",
    "def randomize_all_modsites(glycan_list, fasta_df):\n",
    "    random_modsites = []\n",
    "    for accession in glycan_list:\n",
    "        try:\n",
    "            # if FASTA has multiple eligible entries, retrieve all eligible Sequences\n",
    "            # don't expect multiple eligible entries, but just to be safe\n",
    "            candidate_sequences = fasta_df[fasta_df['Entry'] == accession].Sequence.tolist()\n",
    "            # pick one entry and retrieve the sequence\n",
    "            random_sequence  = np.random.choice(candidate_sequences)\n",
    "            # Select one random 'S' or 'T' modsites\n",
    "            random_modsites.append(random_modsite(random_sequence))\n",
    "        except:\n",
    "            random_modsites.append(np.NaN)\n",
    "\n",
    "    random_modsites = pd.Series(random_modsites)\n",
    "    random_modsites.name = 'Mod Site'\n",
    "    return random_modsites"
   ]
  },
  {
   "cell_type": "code",
   "execution_count": 142,
   "metadata": {
    "collapsed": false
   },
   "outputs": [],
   "source": [
    "sequence = 'MVEPGQDLLLAALSESGISPNDLFDIDGGDAGLATPMPTPSVQQSVPLSALELGLETEAAVPVKQEPETVPTPALLNVRQQPPSTTTFVLNQINHLPPLGSTIVMTKTPPVTTNRQTITLTKFIQTTASTRPSVSAPTVRNAMTSAPSKDQVQLKDLLKNNSLNELMKLKPPANIAQPVATAATDVSNGTVKKESSNKEGARMWINDMKMRSFSPTMKVPVVKEDDEPEEEDEEEMGHAETYAEYMPIKLKIGLRHPDAVVETSSLSSVTPPDVWYKTSISEETIDNGWLSALQLEAITYAAQQHETFLPNGDRAGFLIGDGAGVGKGRTIAGIIYENYLLSRKRALWFSVSNDLKYDAERDLRDIGAKNILVHSLNKFKYGKISSKHNGSVKKGVIFATYSSLIGESQSGGKYKTRLKQLLHWCGDDFDGVIVFDECHKAKNLCPVGSSKPTKTGLAVLELQNKLPKARVVYASATGASEPRNMAYMNRLGIWGEGTPFREFSDFIQAVERRGVGAMEIVAMDMKLRGMYIARQLSFTGVTFKIEEVLLSQSYVKMYNKAVKLWVIARERFQQAADLIDAEQRMKKSMWGQFWSAHQRFFKYLCIASKVKRVVQLAREEIKNGKCVVIGLQSTGEARTLEALEEGGGELNDFVSTAKGVLQSLIEKHFPAPDRKKLYSLLGIDLTAPSNNSSPRDSPCKENKIKKRKGEEITREAKKARKVGGLTGSSSDDSGSESDASDNEESDYESSKNMSSGDDDDFNPFLDESNEDDENDPWLIRKDHKKNKEKKKKKSIDPDSIQSALLASGLGSKRPSFSSTPVISPAPNSTPANSNTNSNSSLITSQDAVERAQQMKKDLLDKLEKLAEDLPPNTLDELIDELGGPENVAEMTGRKGRVVSNDDGSISYESRSELDVPVEILNITEKQRFMDGDKNIAIISEAASSGISLQADRRAKNQRRRVHMTLELPWSADRAIQQFGRTHRSNQVTAPEYVFLISELAGEQRFASIVAKRLESLGALTHGDRRATESRDLSRFNFDNKYGRNALEIVMKSIVNLDSPMVSPPPDYPGEFFKDVRQGLIGVGLINVEDRSGILTLDKDYNNIGKFLNRILGMEVHQQNALFQYFADTLTAVVQNAKKNGRYDMGILDLGSGDEKVRKSDVKKFLTPGYSTSGHVELYTISVERGMSWEEATKIWAELTGPDDGFYLSLQIRNNKKTAILVKEVNPKKKLFLVYRPNTGKQLKLEIYADLKKKYKKVVSDDALMHWLDQYNSSADTCTHAYWRGNCKKASLGLVCEIGLRCRTYYVLCGSVLSVWTKVEGVLASVSGTNVKMQIVRLRTEDGQRIVGLIIPANCVSPLVNLLSTSDQSQQLAVQQKQLWQQHHPQSITNLSNA'\n",
    "candidate_modsites = find(sequence, 'S') + find(sequence, 'T')"
   ]
  },
  {
   "cell_type": "markdown",
   "metadata": {},
   "source": [
    "## re-run analysis with randomized modsites"
   ]
  },
  {
   "cell_type": "code",
   "execution_count": 131,
   "metadata": {
    "collapsed": false
   },
   "outputs": [
    {
     "name": "stdout",
     "output_type": "stream",
     "text": [
      "run time seconds: 0.033802032470703125\n",
      "run time seconds: 0.04489016532897949\n",
      "run time seconds: 0.03543996810913086\n",
      "run time seconds: 0.03505897521972656\n",
      "run time seconds: 0.028116941452026367\n",
      "run time seconds: 0.029861927032470703\n",
      "run time seconds: 0.21544194221496582\n"
     ]
    }
   ],
   "source": [
    "#Trypsin\n",
    "#a = pd.concat([dfg['Protein Group Accessions'], randomize_all_modsites(dfg, dffasta)],1)\n",
    "a = s1_random_modsite.rename(columns={'UniProt Accession':'Protein Group Accessions'})\n",
    "\n",
    "b = site_df.loc[site_df['Column'] == 'Binding site',['Entry','Mean_site']]\n",
    "b.columns = ['ACC_ID','SiteNumber']\n",
    "output = site_diff(a,b)\n",
    "dfg_to_uniprot_BS = a.reset_index().merge(output, left_on='index', right_on='index', how='left')\n",
    "\n",
    "b = site_df.loc[site_df['Column'] == 'Metal binding',['Entry','Mean_site']]\n",
    "b.columns = ['ACC_ID','SiteNumber']\n",
    "output = site_diff(a,b)\n",
    "dfg_to_uniprot_MB = a.reset_index().merge(output, left_on='index', right_on='index', how='left')\n",
    "\n",
    "b = site_df.loc[site_df['Column'] == 'DNA binding',['Entry','Mean_site']]\n",
    "b.columns = ['ACC_ID','SiteNumber']\n",
    "output = site_diff(a,b)\n",
    "dfg_to_uniprot_DB = a.reset_index().merge(output, left_on='index', right_on='index', how='left')\n",
    "\n",
    "b = site_df.loc[site_df['Column'] == 'Calcium binding',['Entry','Mean_site']]\n",
    "b.columns = ['ACC_ID','SiteNumber']\n",
    "output = site_diff(a,b)\n",
    "dfg_to_uniprot_CB = a.reset_index().merge(output, left_on='index', right_on='index', how='left')\n",
    "\n",
    "b = site_df.loc[site_df['Column'] == 'Active site',['Entry','Mean_site']]\n",
    "b.columns = ['ACC_ID','SiteNumber']\n",
    "output = site_diff(a,b)\n",
    "dfg_to_uniprot_AS = a.reset_index().merge(output, left_on='index', right_on='index', how='left')\n",
    "\n",
    "b = site_df.loc[site_df['Column'] == 'Nucleotide binding',['Entry','Mean_site']]\n",
    "b.columns = ['ACC_ID','SiteNumber']\n",
    "output = site_diff(a,b)\n",
    "dfg_to_uniprot_NB = a.reset_index().merge(output, left_on='index', right_on='index', how='left')\n",
    "\n",
    "# AHUANG 09/24/17 I removed the description field for consistency with the dataframes above\n",
    "b = site_df.loc[site_df['Column'] == 'Modified residue',['Entry','Mean_site']]\n",
    "b.columns = ['ACC_ID','SiteNumber']\n",
    "output = site_diff(a,b)\n",
    "dfg_to_uniprot_MR = a.reset_index().merge(output, left_on='index', right_on='index', how='left')"
   ]
  },
  {
   "cell_type": "code",
   "execution_count": 132,
   "metadata": {
    "collapsed": false
   },
   "outputs": [
    {
     "name": "stdout",
     "output_type": "stream",
     "text": [
      "run time seconds: 0.04257678985595703\n",
      "run time seconds: 0.04302382469177246\n",
      "run time seconds: 0.030166149139404297\n",
      "run time seconds: 0.02858591079711914\n",
      "run time seconds: 0.03056192398071289\n",
      "run time seconds: 0.029414892196655273\n",
      "run time seconds: 0.23340702056884766\n"
     ]
    }
   ],
   "source": [
    "# Chymo\n",
    "#a = pd.concat([dfg_chymo['Protein Group Accessions'], randomize_all_modsites(dfg_chymo, dffasta)],1)\n",
    "a = s1_random_modsite.rename(columns={'UniProt Accession':'Protein Group Accessions'})\n",
    "\n",
    "b = site_df.loc[site_df['Column'] == 'Binding site',['Entry','Mean_site']]\n",
    "b.columns = ['ACC_ID','SiteNumber']\n",
    "output = site_diff(a,b)\n",
    "dfg_chymo_to_uniprot_BS = a.reset_index().merge(output, left_on='index', right_on='index', how='left')\n",
    "\n",
    "b = site_df.loc[site_df['Column'] == 'Metal binding',['Entry','Mean_site']]\n",
    "b.columns = ['ACC_ID','SiteNumber']\n",
    "output = site_diff(a,b)\n",
    "dfg_chymo_to_uniprot_MB = a.reset_index().merge(output, left_on='index', right_on='index', how='left')\n",
    "\n",
    "b = site_df.loc[site_df['Column'] == 'DNA binding',['Entry','Mean_site']]\n",
    "b.columns = ['ACC_ID','SiteNumber']\n",
    "output = site_diff(a,b)\n",
    "dfg_chymo_to_uniprot_DB = a.reset_index().merge(output, left_on='index', right_on='index', how='left')\n",
    "\n",
    "b = site_df.loc[site_df['Column'] == 'Calcium binding',['Entry','Mean_site']]\n",
    "b.columns = ['ACC_ID','SiteNumber']\n",
    "output = site_diff(a,b)\n",
    "dfg_chymo_to_uniprot_CB = a.reset_index().merge(output, left_on='index', right_on='index', how='left')\n",
    "\n",
    "b = site_df.loc[site_df['Column'] == 'Active site',['Entry','Mean_site']]\n",
    "b.columns = ['ACC_ID','SiteNumber']\n",
    "output = site_diff(a,b)\n",
    "dfg_chymo_to_uniprot_AS = a.reset_index().merge(output, left_on='index', right_on='index', how='left')\n",
    "\n",
    "b = site_df.loc[site_df['Column'] == 'Nucleotide binding',['Entry','Mean_site']]\n",
    "b.columns = ['ACC_ID','SiteNumber']\n",
    "output = site_diff(a,b)\n",
    "dfg_chymo_to_uniprot_NB = a.reset_index().merge(output, left_on='index', right_on='index', how='left')\n",
    "\n",
    "b = site_df.loc[site_df['Column'] == 'Modified residue',['Entry','Mean_site','Description']]\n",
    "b.columns = ['ACC_ID','SiteNumber','Description']\n",
    "output = site_diff(a,b)\n",
    "dfg_chymo_to_uniprot_MR = a.reset_index().merge(output, left_on='index', right_on='index', how='left')"
   ]
  },
  {
   "cell_type": "code",
   "execution_count": 133,
   "metadata": {
    "collapsed": true
   },
   "outputs": [],
   "source": [
    "dfs = [dfg_chymo_to_uniprot_AS, dfg_chymo_to_uniprot_BS, dfg_chymo_to_uniprot_CB, dfg_chymo_to_uniprot_DB, dfg_chymo_to_uniprot_MB,dfg_chymo_to_uniprot_MR, dfg_chymo_to_uniprot_NB]\n",
    "dfg_chymo = pd.concat(dfs)\n",
    "\n",
    "# hacky way to add a column with the site type\n",
    "site_type_list = ['AS','BS','CB','DB','MB','MR','NB']\n",
    "site_type = [[site] * df.shape[0] for df, site in zip(dfs, site_type_list)]\n",
    "flat_list = [item for sublist in site_type for item in sublist]\n",
    "dfg_chymo['site_type'] = flat_list\n",
    "\n",
    "dfs = [dfg_to_uniprot_AS ,dfg_to_uniprot_BS , dfg_to_uniprot_CB ,dfg_to_uniprot_DB ,dfg_to_uniprot_MB ,dfg_to_uniprot_MR ,dfg_to_uniprot_NB]\n",
    "dfg_trypsin = pd.concat(dfs)\n",
    "\n",
    "# hacky way to add a column with the site type\n",
    "site_type_list = ['AS','BS','CB','DB','MB','MR','NB']\n",
    "site_type = [[site] * df.shape[0] for df, site in zip(dfs, site_type_list)]\n",
    "flat_list = [item for sublist in site_type for item in sublist]\n",
    "dfg_trypsin['site_type'] = flat_list\n",
    "\n",
    "dfn = pd.concat([dfg_trypsin, dfg_chymo]).dropna()\n",
    "dfn['site_diff_bin'] = pd.cut(dfn.Site_diff.clip(0,110),[0,10,20,30,40,50,60,70,80,90,100,110])"
   ]
  },
  {
   "cell_type": "code",
   "execution_count": 158,
   "metadata": {
    "collapsed": false
   },
   "outputs": [
    {
     "data": {
      "text/html": [
       "<div>\n",
       "<style>\n",
       "    .dataframe thead tr:only-child th {\n",
       "        text-align: right;\n",
       "    }\n",
       "\n",
       "    .dataframe thead th {\n",
       "        text-align: left;\n",
       "    }\n",
       "\n",
       "    .dataframe tbody tr th {\n",
       "        vertical-align: top;\n",
       "    }\n",
       "</style>\n",
       "<table border=\"1\" class=\"dataframe\">\n",
       "  <thead>\n",
       "    <tr style=\"text-align: right;\">\n",
       "      <th></th>\n",
       "      <th>index</th>\n",
       "      <th>Protein Group Accessions</th>\n",
       "      <th>Mod Site</th>\n",
       "      <th>SiteNumber</th>\n",
       "      <th>Site_diff</th>\n",
       "      <th>site_diff_bin</th>\n",
       "    </tr>\n",
       "    <tr>\n",
       "      <th>site_type</th>\n",
       "      <th></th>\n",
       "      <th></th>\n",
       "      <th></th>\n",
       "      <th></th>\n",
       "      <th></th>\n",
       "      <th></th>\n",
       "    </tr>\n",
       "  </thead>\n",
       "  <tbody>\n",
       "    <tr>\n",
       "      <th>AS</th>\n",
       "      <td>10</td>\n",
       "      <td>10</td>\n",
       "      <td>10</td>\n",
       "      <td>10</td>\n",
       "      <td>10</td>\n",
       "      <td>10</td>\n",
       "    </tr>\n",
       "    <tr>\n",
       "      <th>BS</th>\n",
       "      <td>132</td>\n",
       "      <td>132</td>\n",
       "      <td>132</td>\n",
       "      <td>132</td>\n",
       "      <td>132</td>\n",
       "      <td>116</td>\n",
       "    </tr>\n",
       "    <tr>\n",
       "      <th>CB</th>\n",
       "      <td>10</td>\n",
       "      <td>10</td>\n",
       "      <td>10</td>\n",
       "      <td>10</td>\n",
       "      <td>10</td>\n",
       "      <td>10</td>\n",
       "    </tr>\n",
       "    <tr>\n",
       "      <th>DB</th>\n",
       "      <td>66</td>\n",
       "      <td>66</td>\n",
       "      <td>66</td>\n",
       "      <td>66</td>\n",
       "      <td>66</td>\n",
       "      <td>66</td>\n",
       "    </tr>\n",
       "    <tr>\n",
       "      <th>MB</th>\n",
       "      <td>228</td>\n",
       "      <td>228</td>\n",
       "      <td>228</td>\n",
       "      <td>228</td>\n",
       "      <td>228</td>\n",
       "      <td>220</td>\n",
       "    </tr>\n",
       "    <tr>\n",
       "      <th>MR</th>\n",
       "      <td>7296</td>\n",
       "      <td>7296</td>\n",
       "      <td>7296</td>\n",
       "      <td>7296</td>\n",
       "      <td>7296</td>\n",
       "      <td>7012</td>\n",
       "    </tr>\n",
       "    <tr>\n",
       "      <th>NB</th>\n",
       "      <td>76</td>\n",
       "      <td>76</td>\n",
       "      <td>76</td>\n",
       "      <td>76</td>\n",
       "      <td>76</td>\n",
       "      <td>74</td>\n",
       "    </tr>\n",
       "  </tbody>\n",
       "</table>\n",
       "</div>"
      ],
      "text/plain": [
       "           index  Protein Group Accessions  Mod Site  SiteNumber  Site_diff  \\\n",
       "site_type                                                                     \n",
       "AS            10                        10        10          10         10   \n",
       "BS           132                       132       132         132        132   \n",
       "CB            10                        10        10          10         10   \n",
       "DB            66                        66        66          66         66   \n",
       "MB           228                       228       228         228        228   \n",
       "MR          7296                      7296      7296        7296       7296   \n",
       "NB            76                        76        76          76         76   \n",
       "\n",
       "           site_diff_bin  \n",
       "site_type                 \n",
       "AS                    10  \n",
       "BS                   116  \n",
       "CB                    10  \n",
       "DB                    66  \n",
       "MB                   220  \n",
       "MR                  7012  \n",
       "NB                    74  "
      ]
     },
     "execution_count": 158,
     "metadata": {},
     "output_type": "execute_result"
    }
   ],
   "source": [
    "dfn[dfn.Site_diff < 10].groupby('site_type').count()"
   ]
  },
  {
   "cell_type": "code",
   "execution_count": 152,
   "metadata": {
    "collapsed": false
   },
   "outputs": [
    {
     "ename": "NameError",
     "evalue": "name 'Interval' is not defined",
     "output_type": "error",
     "traceback": [
      "\u001b[0;31m---------------------------------------------------------------------------\u001b[0m",
      "\u001b[0;31mNameError\u001b[0m                                 Traceback (most recent call last)",
      "\u001b[0;32m<ipython-input-152-8dd65cc511b1>\u001b[0m in \u001b[0;36m<module>\u001b[0;34m()\u001b[0m\n\u001b[0;32m----> 1\u001b[0;31m \u001b[0mdfn\u001b[0m\u001b[0;34m[\u001b[0m\u001b[0mdfn\u001b[0m\u001b[0;34m.\u001b[0m\u001b[0msite_diff_bin\u001b[0m \u001b[0;34m==\u001b[0m \u001b[0mInterval\u001b[0m\u001b[0;34m(\u001b[0m\u001b[0;36m0\u001b[0m\u001b[0;34m,\u001b[0m \u001b[0;36m10\u001b[0m\u001b[0;34m,\u001b[0m \u001b[0mclosed\u001b[0m\u001b[0;34m=\u001b[0m\u001b[0;34m'right'\u001b[0m\u001b[0;34m)\u001b[0m\u001b[0;34m]\u001b[0m\u001b[0;34m\u001b[0m\u001b[0m\n\u001b[0m",
      "\u001b[0;31mNameError\u001b[0m: name 'Interval' is not defined"
     ]
    }
   ],
   "source": [
    "dfn[dfn.site_diff_bin == Interval(0, 10, closed='right')]"
   ]
  },
  {
   "cell_type": "code",
   "execution_count": 142,
   "metadata": {
    "collapsed": false
   },
   "outputs": [
    {
     "data": {
      "text/plain": [
       "<matplotlib.axes._subplots.AxesSubplot at 0x10df81fd0>"
      ]
     },
     "execution_count": 142,
     "metadata": {},
     "output_type": "execute_result"
    },
    {
     "data": {
      "image/png": "[encoded data removed]",
      "text/plain": [
       "<matplotlib.figure.Figure at 0x10e4bd0b8>"
      ]
     },
     "metadata": {},
     "output_type": "display_data"
    }
   ],
   "source": [
    "dfn.groupby('site_type').count().iloc[:,0].plot(kind='barh')"
   ]
  },
  {
   "cell_type": "code",
   "execution_count": 138,
   "metadata": {
    "collapsed": false
   },
   "outputs": [
    {
     "data": {
      "text/plain": [
       "<matplotlib.axes._subplots.AxesSubplot at 0x10e4ba898>"
      ]
     },
     "execution_count": 138,
     "metadata": {},
     "output_type": "execute_result"
    },
    {
     "data": {
      "image/png": "[encoded data removed]",
      "text/plain": [
       "<matplotlib.figure.Figure at 0x10df6ada0>"
      ]
     },
     "metadata": {},
     "output_type": "display_data"
    }
   ],
   "source": [
    "dfn.groupby('site_type')['Site_diff'].mean().plot(kind='barh', figsize=(15,5))"
   ]
  },
  {
   "cell_type": "code",
   "execution_count": 134,
   "metadata": {
    "collapsed": false
   },
   "outputs": [
    {
     "data": {
      "text/plain": [
       "<matplotlib.axes._subplots.AxesSubplot at 0x1180fdcc0>"
      ]
     },
     "execution_count": 134,
     "metadata": {},
     "output_type": "execute_result"
    },
    {
     "data": {
      "image/png": "[encoded data removed]",
      "text/plain": [
       "<matplotlib.figure.Figure at 0x116d0d400>"
      ]
     },
     "metadata": {},
     "output_type": "display_data"
    }
   ],
   "source": [
    "dfn.site_diff_bin.value_counts().sort_index().plot(kind='bar', figsize=(15,5))"
   ]
  },
  {
   "cell_type": "code",
   "execution_count": null,
   "metadata": {
    "collapsed": true
   },
   "outputs": [],
   "source": []
  },
  {
   "cell_type": "markdown",
   "metadata": {},
   "source": [
    "# 20171001 analysis: randomized phosphosite distribution"
   ]
  },
  {
   "cell_type": "code",
   "execution_count": 9,
   "metadata": {
    "collapsed": false
   },
   "outputs": [],
   "source": [
    "s1 = pd.read_excel((folder + 'Supplementary Tables_1_revision.xlsx'), sheetname='TableS1_TotalGlycopeptides', header=1)"
   ]
  },
  {
   "cell_type": "code",
   "execution_count": 14,
   "metadata": {
    "collapsed": true
   },
   "outputs": [],
   "source": [
    "#Glycoprotein fasta file\n",
    "fasta = 'UniprotFasta.xlsx'\n",
    "dffasta = pd.read_excel((folder + fasta) ,sheetname='Sheet1')"
   ]
  },
  {
   "cell_type": "code",
   "execution_count": null,
   "metadata": {
    "collapsed": true
   },
   "outputs": [],
   "source": [
    "folder = '/Users/ahuang/code/personal/CW5-169/data/'\n",
    "phosphosite = 'Phosphorylation_site_dataset.xlsx'\n",
    "dfp = pd.read_excel((folder + phosphosite),sheetname='Sheet1')"
   ]
  },
  {
   "cell_type": "code",
   "execution_count": null,
   "metadata": {
    "collapsed": true
   },
   "outputs": [],
   "source": [
    "# Phosphosite\n",
    "a = pd.concat([dfg_chymo['Protein Group Accessions'], randomize_all_modsites(dfg_chymo, dffasta)],1)"
   ]
  },
  {
   "cell_type": "code",
   "execution_count": 4,
   "metadata": {
    "collapsed": false
   },
   "outputs": [
    {
     "data": {
      "text/html": [
       "<div>\n",
       "<style>\n",
       "    .dataframe thead tr:only-child th {\n",
       "        text-align: right;\n",
       "    }\n",
       "\n",
       "    .dataframe thead th {\n",
       "        text-align: left;\n",
       "    }\n",
       "\n",
       "    .dataframe tbody tr th {\n",
       "        vertical-align: top;\n",
       "    }\n",
       "</style>\n",
       "<table border=\"1\" class=\"dataframe\">\n",
       "  <thead>\n",
       "    <tr style=\"text-align: right;\">\n",
       "      <th></th>\n",
       "      <th>PROTEIN</th>\n",
       "      <th>ACC_ID</th>\n",
       "      <th>GENE</th>\n",
       "      <th>HU_CHR_LOC</th>\n",
       "      <th>MOD_RSD</th>\n",
       "      <th>SiteNumber</th>\n",
       "      <th>SITE_GRP_ID</th>\n",
       "      <th>ORGANISM</th>\n",
       "      <th>MW_kD</th>\n",
       "      <th>DOMAIN</th>\n",
       "      <th>SITE_+/-7_AA</th>\n",
       "      <th>LT_LIT</th>\n",
       "      <th>MS_LIT</th>\n",
       "      <th>MS_CST</th>\n",
       "      <th>CST_CAT#</th>\n",
       "    </tr>\n",
       "  </thead>\n",
       "  <tbody>\n",
       "    <tr>\n",
       "      <th>0</th>\n",
       "      <td>14-3-3 beta</td>\n",
       "      <td>P31946</td>\n",
       "      <td>YWHAB</td>\n",
       "      <td>20q13.1</td>\n",
       "      <td>T2-p</td>\n",
       "      <td>2</td>\n",
       "      <td>15718712</td>\n",
       "      <td>human</td>\n",
       "      <td>28.08</td>\n",
       "      <td>NaN</td>\n",
       "      <td>______MtMDksELV</td>\n",
       "      <td>NaN</td>\n",
       "      <td>1.0</td>\n",
       "      <td>1.0</td>\n",
       "      <td>NaN</td>\n",
       "    </tr>\n",
       "    <tr>\n",
       "      <th>1</th>\n",
       "      <td>14-3-3 beta</td>\n",
       "      <td>P31946</td>\n",
       "      <td>YWHAB</td>\n",
       "      <td>20q13.1</td>\n",
       "      <td>S6-p</td>\n",
       "      <td>6</td>\n",
       "      <td>15718709</td>\n",
       "      <td>human</td>\n",
       "      <td>28.08</td>\n",
       "      <td>14-3-3</td>\n",
       "      <td>__MtMDksELVQkAk</td>\n",
       "      <td>NaN</td>\n",
       "      <td>3.0</td>\n",
       "      <td>NaN</td>\n",
       "      <td>NaN</td>\n",
       "    </tr>\n",
       "    <tr>\n",
       "      <th>2</th>\n",
       "      <td>14-3-3 beta</td>\n",
       "      <td>P31946</td>\n",
       "      <td>YWHAB</td>\n",
       "      <td>20q13.1</td>\n",
       "      <td>Y21-p</td>\n",
       "      <td>21</td>\n",
       "      <td>3426383</td>\n",
       "      <td>human</td>\n",
       "      <td>28.08</td>\n",
       "      <td>14-3-3</td>\n",
       "      <td>LAEQAERyDDMAAAM</td>\n",
       "      <td>NaN</td>\n",
       "      <td>NaN</td>\n",
       "      <td>3.0</td>\n",
       "      <td>NaN</td>\n",
       "    </tr>\n",
       "    <tr>\n",
       "      <th>3</th>\n",
       "      <td>14-3-3 beta</td>\n",
       "      <td>P31946</td>\n",
       "      <td>YWHAB</td>\n",
       "      <td>20q13.1</td>\n",
       "      <td>T32-p</td>\n",
       "      <td>32</td>\n",
       "      <td>23077803</td>\n",
       "      <td>human</td>\n",
       "      <td>28.08</td>\n",
       "      <td>14-3-3</td>\n",
       "      <td>AAAMKAVtEQGHELs</td>\n",
       "      <td>NaN</td>\n",
       "      <td>NaN</td>\n",
       "      <td>1.0</td>\n",
       "      <td>NaN</td>\n",
       "    </tr>\n",
       "    <tr>\n",
       "      <th>4</th>\n",
       "      <td>14-3-3 beta</td>\n",
       "      <td>P31946</td>\n",
       "      <td>YWHAB</td>\n",
       "      <td>20q13.1</td>\n",
       "      <td>S39-p</td>\n",
       "      <td>39</td>\n",
       "      <td>27442700</td>\n",
       "      <td>human</td>\n",
       "      <td>28.08</td>\n",
       "      <td>14-3-3</td>\n",
       "      <td>tEQGHELsNEERNLL</td>\n",
       "      <td>NaN</td>\n",
       "      <td>1.0</td>\n",
       "      <td>NaN</td>\n",
       "      <td>NaN</td>\n",
       "    </tr>\n",
       "  </tbody>\n",
       "</table>\n",
       "</div>"
      ],
      "text/plain": [
       "       PROTEIN  ACC_ID   GENE HU_CHR_LOC MOD_RSD  SiteNumber  SITE_GRP_ID  \\\n",
       "0  14-3-3 beta  P31946  YWHAB    20q13.1    T2-p           2     15718712   \n",
       "1  14-3-3 beta  P31946  YWHAB    20q13.1    S6-p           6     15718709   \n",
       "2  14-3-3 beta  P31946  YWHAB    20q13.1   Y21-p          21      3426383   \n",
       "3  14-3-3 beta  P31946  YWHAB    20q13.1   T32-p          32     23077803   \n",
       "4  14-3-3 beta  P31946  YWHAB    20q13.1   S39-p          39     27442700   \n",
       "\n",
       "  ORGANISM  MW_kD  DOMAIN     SITE_+/-7_AA  LT_LIT  MS_LIT  MS_CST CST_CAT#  \n",
       "0    human  28.08     NaN  ______MtMDksELV     NaN     1.0     1.0      NaN  \n",
       "1    human  28.08  14-3-3  __MtMDksELVQkAk     NaN     3.0     NaN      NaN  \n",
       "2    human  28.08  14-3-3  LAEQAERyDDMAAAM     NaN     NaN     3.0      NaN  \n",
       "3    human  28.08  14-3-3  AAAMKAVtEQGHELs     NaN     NaN     1.0      NaN  \n",
       "4    human  28.08  14-3-3  tEQGHELsNEERNLL     NaN     1.0     NaN      NaN  "
      ]
     },
     "execution_count": 4,
     "metadata": {},
     "output_type": "execute_result"
    }
   ],
   "source": [
    "# Phosphosite\n",
    "dfp.head()"
   ]
  },
  {
   "cell_type": "code",
   "execution_count": 30,
   "metadata": {
    "collapsed": true
   },
   "outputs": [],
   "source": [
    "def find(s, ch):\n",
    "    return [i for i, ltr in enumerate(s) if ltr == ch]\n",
    "\n",
    "def random_modsite(sequence):\n",
    "    candidate_modsites = find(sequence, 'S') + find(sequence, 'T')\n",
    "    return np.random.choice(candidate_modsites)\n",
    "\n",
    "def randomize_all_modsites(glycan_list, fasta_df):\n",
    "    random_modsites = []\n",
    "    for accession in glycan_list:\n",
    "        try:\n",
    "            # if FASTA has multiple eligible entries, retrieve all eligible Sequences\n",
    "            # don't expect multiple eligible entries, but just to be safe\n",
    "            candidate_sequences = fasta_df[fasta_df['Entry'] == accession].Sequence.tolist()\n",
    "            # pick one entry and retrieve the sequence\n",
    "            random_sequence  = np.random.choice(candidate_sequences)\n",
    "            # Select one random 'S' or 'T' modsites\n",
    "            random_modsites.append(random_modsite(random_sequence))\n",
    "        except:\n",
    "            random_modsites.append(np.NaN)\n",
    "\n",
    "    random_modsites = pd.Series(random_modsites)\n",
    "    random_modsites.name = 'Mod Site'\n",
    "    return random_modsites"
   ]
  },
  {
   "cell_type": "code",
   "execution_count": 36,
   "metadata": {
    "collapsed": false
   },
   "outputs": [],
   "source": [
    "rdm_s1 = randomize_all_modsites(list(s1['UniProt Accession']), dffasta)\n",
    "s1_random_modsite = pd.concat([s1['UniProt Accession'],rdm_s1],1)"
   ]
  },
  {
   "cell_type": "code",
   "execution_count": 61,
   "metadata": {
    "collapsed": false
   },
   "outputs": [
    {
     "data": {
      "text/plain": [
       "array(['O95319', 'P51610', 'Q92879', ..., 'P30511', 'P05023', 'Q9NXE4'], dtype=object)"
      ]
     },
     "execution_count": 61,
     "metadata": {},
     "output_type": "execute_result"
    }
   ],
   "source": [
    "s1_random_modsite['UniProt Accession'].unique()"
   ]
  },
  {
   "cell_type": "code",
   "execution_count": 74,
   "metadata": {
    "collapsed": false
   },
   "outputs": [
    {
     "data": {
      "text/html": [
       "<div>\n",
       "<style>\n",
       "    .dataframe thead tr:only-child th {\n",
       "        text-align: right;\n",
       "    }\n",
       "\n",
       "    .dataframe thead th {\n",
       "        text-align: left;\n",
       "    }\n",
       "\n",
       "    .dataframe tbody tr th {\n",
       "        vertical-align: top;\n",
       "    }\n",
       "</style>\n",
       "<table border=\"1\" class=\"dataframe\">\n",
       "  <thead>\n",
       "    <tr style=\"text-align: right;\">\n",
       "      <th></th>\n",
       "      <th>UniProt Accession</th>\n",
       "      <th>Mod Site</th>\n",
       "    </tr>\n",
       "  </thead>\n",
       "  <tbody>\n",
       "    <tr>\n",
       "      <th>0</th>\n",
       "      <td>O95319</td>\n",
       "      <td>306.0</td>\n",
       "    </tr>\n",
       "    <tr>\n",
       "      <th>1</th>\n",
       "      <td>O95319</td>\n",
       "      <td>333.0</td>\n",
       "    </tr>\n",
       "    <tr>\n",
       "      <th>2</th>\n",
       "      <td>O95319</td>\n",
       "      <td>387.0</td>\n",
       "    </tr>\n",
       "    <tr>\n",
       "      <th>3</th>\n",
       "      <td>O95319</td>\n",
       "      <td>295.0</td>\n",
       "    </tr>\n",
       "    <tr>\n",
       "      <th>4</th>\n",
       "      <td>O95319</td>\n",
       "      <td>211.0</td>\n",
       "    </tr>\n",
       "  </tbody>\n",
       "</table>\n",
       "</div>"
      ],
      "text/plain": [
       "  UniProt Accession  Mod Site\n",
       "0            O95319     306.0\n",
       "1            O95319     333.0\n",
       "2            O95319     387.0\n",
       "3            O95319     295.0\n",
       "4            O95319     211.0"
      ]
     },
     "execution_count": 74,
     "metadata": {},
     "output_type": "execute_result"
    }
   ],
   "source": [
    "s1_random_modsite.head()"
   ]
  },
  {
   "cell_type": "code",
   "execution_count": 90,
   "metadata": {
    "collapsed": false
   },
   "outputs": [],
   "source": [
    "output = []\n",
    "for idx, row in  s1_random_modsite.iterrows():\n",
    "    one_dfp = np.array(dfp.loc[dfp['ACC_ID'] == row[0],'SiteNumber'])\n",
    "    if len(one_dfp) == 0:\n",
    "        output.append(9999)\n",
    "    else:\n",
    "        min_distance = np.min(np.abs(one_dfp - row[1]))\n",
    "        output.append(min_distance)"
   ]
  },
  {
   "cell_type": "code",
   "execution_count": 93,
   "metadata": {
    "collapsed": false
   },
   "outputs": [],
   "source": [
    "# Protein level comparison of S1 table randomized modsite to the closest Phosphosite modsite\n",
    "s1_dfp = pd.DataFrame(output, columns=['rdm_site_diff'])"
   ]
  },
  {
   "cell_type": "code",
   "execution_count": 124,
   "metadata": {
    "collapsed": false
   },
   "outputs": [
    {
     "data": {
      "text/plain": [
       "0.0     915\n",
       "1.0    4683\n",
       "2.0     747\n",
       "3.0     715\n",
       "4.0     567\n",
       "5.0     575\n",
       "6.0     495\n",
       "7.0     498\n",
       "8.0     502\n",
       "9.0     427\n",
       "Name: rdm_site_diff, dtype: int64"
      ]
     },
     "execution_count": 124,
     "metadata": {},
     "output_type": "execute_result"
    }
   ],
   "source": [
    "s1_dfp.rdm_site_diff.value_counts().sort_index().head(10)"
   ]
  },
  {
   "cell_type": "code",
   "execution_count": 103,
   "metadata": {
    "collapsed": false
   },
   "outputs": [
    {
     "data": {
      "text/plain": [
       "(0, 10]       9600\n",
       "(10, 20]      3059\n",
       "(20, 30]      2098\n",
       "(30, 40]      1512\n",
       "(40, 50]      1083\n",
       "(50, 60]       858\n",
       "(60, 70]       717\n",
       "(70, 80]       534\n",
       "(80, 90]       476\n",
       "(90, 100]      391\n",
       "(100, 110]    1909\n",
       "Name: site_diff_bin, dtype: int64"
      ]
     },
     "execution_count": 103,
     "metadata": {},
     "output_type": "execute_result"
    }
   ],
   "source": [
    "s1_dfp.site_diff_bin.value_counts().sort_index()"
   ]
  },
  {
   "cell_type": "code",
   "execution_count": 100,
   "metadata": {
    "collapsed": false
   },
   "outputs": [
    {
     "data": {
      "text/plain": [
       "<matplotlib.axes._subplots.AxesSubplot at 0x10db31828>"
      ]
     },
     "execution_count": 100,
     "metadata": {},
     "output_type": "execute_result"
    },
    {
     "data": {
      "image/png": "[encoded data removed]",
      "text/plain": [
       "<matplotlib.figure.Figure at 0x10f062518>"
      ]
     },
     "metadata": {},
     "output_type": "display_data"
    }
   ],
   "source": [
    "s1_dfp['site_diff_bin'] = pd.cut(s1_dfp.rdm_site_diff.clip(0,110),[0,10,20,30,40,50,60,70,80,90,100,110])\n",
    "s1_dfp.site_diff_bin.value_counts().sort_index().plot(kind='bar', figsize=(15,5), title='Protein level comparison of S1 table randomized modsite to the closest Phosphosite modsite')\n"
   ]
  },
  {
   "cell_type": "code",
   "execution_count": null,
   "metadata": {
    "collapsed": true
   },
   "outputs": [],
   "source": []
  }
 ],
 "metadata": {
  "kernelspec": {
   "display_name": "Python 3",
   "language": "python",
   "name": "python3"
  },
  "language_info": {
   "codemirror_mode": {
    "name": "ipython",
    "version": 3
   },
   "file_extension": ".py",
   "mimetype": "text/x-python",
   "name": "python",
   "nbconvert_exporter": "python",
   "pygments_lexer": "ipython3",
   "version": "3.6.2"
  }
 },
 "nbformat": 4,
 "nbformat_minor": 0
}
